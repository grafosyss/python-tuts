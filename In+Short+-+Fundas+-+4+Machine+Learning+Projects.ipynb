{
 "cells": [
  {
   "cell_type": "markdown",
   "metadata": {},
   "source": [
    "<img src=\"Programming%20Tutorials(Title).png\" style=\"height:600px\", align=\"middle\">"
   ]
  },
  {
   "cell_type": "raw",
   "metadata": {},
   "source": [
    "Predictive Modeling Project Template\n",
    "Applied machine learning is an empirical skill. You cannot get better at it by reading books and articles. You have to practice. In this lesson you will discover the simple six-step machine learning project template that you can use to jump-start your project in Python. After completing this lesson you will know:\n",
    "1. How to structure an end-to-end predictive modeling project.\n",
    "2. How to map the tasks you learned about in previous tutorial onto a project.\n",
    "3. How to best use the structured project template to ensure an accurate result for your dataset.\n",
    "\n",
    "Practice Machine Learning With Projects\n",
    "Working through machine learning problems from end-to-end is critically important. You can read about machine learning. You can also try out small one-off recipes. But applied machine learning will not come alive for you until you work through a dataset from beginning to end. Working through a project forces you to think about how the model will be used, to challenge your assumptions and to get good at all parts of a project, not just your favorite parts. The best way to practice predictive modeling machine learning projects is to use standardized datasets from the UCI Machine Learning Repository. Once you have a practice dataset and a bunch of Python recipes, how do you put it all together and work through the problem end-to-end?\n",
    "\n",
    "Use A Structured Step-By-Step Process\n",
    "Any predictive modeling machine learning project can be broken down into six common tasks:\n",
    "1. Define Problem.\n",
    "2. Summarize Data.\n",
    "3. Prepare Data.\n",
    "4. Evaluate Algorithms.\n",
    "5. Improve Results.\n",
    "6. Present Results.\n",
    "Tasks can be combined or broken down further, but this is the general structure. To work through predictive modeling machine learning problems in Python, you need to map Python onto this process. The tasks may need to be adapted or renamed slightly to suit the Python way of doing things (e.g. Pandas for data loading and scikit-learn for modeling). The next section provides exactly this mapping and elaborates each task and the types of sub-tasks and libraries that you can use.\n",
    "\n",
    "Machine Learning Project Template in Python\n",
    "This section presents a project template that you can use to work through machine learning problems in Python end-to-end.\n",
    "\n",
    "Template Summary\n",
    "Below is the project template that you can use in your machine learning projects in Python."
   ]
  },
  {
   "cell_type": "code",
   "execution_count": 1,
   "metadata": {
    "collapsed": true
   },
   "outputs": [],
   "source": [
    "# Python Project Template\n",
    "# 1. Prepare Problem\n",
    "# a) Load libraries\n",
    "# b) Load dataset\n",
    "\n",
    "# 2. Summarize Data\n",
    "# a) Descriptive statistics\n",
    "# b) Data visualizations\n",
    "\n",
    "# 3. Prepare Data\n",
    "# a) Data Cleaning\n",
    "# b) Feature Selection\n",
    "# c) Data Transforms\n",
    "\n",
    "# 4. Evaluate Algorithms\n",
    "# a) Split-out validation dataset\n",
    "# b) Test options and evaluation metric\n",
    "# c) Spot Check Algorithms\n",
    "# d) Compare Algorithms\n",
    "\n",
    "# 5. Improve Accuracy\n",
    "# a) Algorithm Tuning\n",
    "# b) Ensembles\n",
    "\n",
    "# 6. Finalize Model\n",
    "# a) Predictions on validation dataset\n",
    "# b) Create standalone model on entire training dataset\n",
    "# c) Save model for later use"
   ]
  },
  {
   "cell_type": "raw",
   "metadata": {},
   "source": [
    "How To Use The Project Template\n",
    "1. Create a new file for your project (e.g. project name.py).\n",
    "2. Copy the project template.\n",
    "3. Paste it into your empty project file.\n",
    "4. Start to fill it in, using recipes from this tutorial. \n",
    "\n",
    "Machine Learning Project Template Steps\n",
    "This section gives you additional details on each of the steps of the template.\n",
    "Prepare Problem\n",
    "This step is about loading everything you need to start working on your problem. This includes:\n",
    " Python modules, classes and functions that you intend to use.\n",
    " Loading your dataset from CSV.\n",
    "This is also the home of any global configuration you might need to do. It is also the place where you might need to make a reduced sample of your dataset if it is too large to work with. Ideally, your dataset should be small enough to build a model or create a visualization within a minute, ideally 30 seconds. You can always scale up well performing models later.\n",
    "\n",
    "Summarize Data\n",
    "This step is about better understanding the data that you have available. This includes understanding your data using:\n",
    " Descriptive statistics such as summaries.\n",
    " Data visualizations such as plots with Matplotlib, ideally using convenience functions from Pandas.\n",
    "Take your time and use the results to prompt a lot of questions, assumptions and hypotheses that you can investigate later with specialized models.\n",
    "\n",
    "Prepare Data\n",
    "This step is about preparing the data in such a way that it best exposes the structure of the problem and the relationships between your input attributes with the output variable. This includes tasks such as:\n",
    " Cleaning data by removing duplicates, marking missing values and even imputing missing values.\n",
    " Feature selection where redundant features may be removed and new features developed.\n",
    " Data transforms where attributes are scaled or redistributed in order to best expose the structure of the problem later to learning algorithms.\n",
    "Start simple. Revisit this step often and cycle with the next step until you converge on a subset of algorithms and a presentation of the data that results in accurate or accurate-enough models to proceed.\n",
    "\n",
    "Evaluate Algorithms\n",
    "This step is about finding a subset of machine learning algorithms that are good at exploiting the structure of your data (e.g. have better than average skill). This involves steps such as:\n",
    " Separating out a validation dataset to use for later confirmation of the skill of your developed model.\n",
    " Defining test options using scikit-learn such as cross validation and the evaluation metric to use.\n",
    " Spot-checking a suite of linear and nonlinear machine learning algorithms.\n",
    " Comparing the estimated accuracy of algorithms.\n",
    "On a given problem you will likely spend most of your time on this and the previous step until you converge on a set of 3-to-5 well performing machine learning algorithms.\n",
    "\n",
    "Improve Accuracy\n",
    "Once you have a shortlist of machine learning algorithms, you need to get the most out of them.There are two different ways to improve the accuracy of your models:\n",
    " Search for a combination of parameters for each algorithm using scikit-learn that yields the best results.\n",
    " Combine the prediction of multiple models into an ensemble prediction using ensemble techniques.\n",
    "The line between this and the previous step can blur when a project becomes concrete.There may be a little algorithm tuning in the previous step. And in the case of ensembles, you may bring more than a shortlist of algorithms forward to combine their predictions.\n",
    "\n",
    "Finalize Model\n",
    "Once you have found a model that you believe can make accurate predictions on unseen data,you are ready to finalize it. Finalizing a model may involve sub-tasks such as:\n",
    " Using an optimal model tuned by scikit-learn to make predictions on unseen data.\n",
    " Creating a standalone model using the parameters tuned by scikit-learn.\n",
    " Saving an optimal model to file for later use.\n",
    "Once you make it this far you are ready to present results to stakeholders and/or deploy your model to start making predictions on unseen data.\n",
    "\n",
    "Tips For Using The Template Well\n",
    "This section lists tips that you can use to make the most of the machine learning project template in Python.\n",
    " Fast First Pass. Make a first-pass through the project steps as fast as possible. This will give you confidence that you have all the parts that you need and a baseline from which to improve.\n",
    " Cycles. The process in not linear but cyclic. You will loop between steps, and probably spend most of your time in tight loops between steps 3-4 or 3-4-5 until you achieve a level of accuracy that is sufficient or you run out of time.\n",
    " Attempt Every Step. It is easy to skip steps, especially if you are not confident or familiar with the tasks of that step. Try and do something at each step in the process, even if it does not improve accuracy. You can always build upon it later. Don’t skip steps, just reduce their contribution.\n",
    " Ratchet Accuracy. The goal of the project is model accuracy. Every step contributes towards this goal. Treat changes that you make as experiments that increase accuracy as the golden path in the process and reorganize other steps around them. Accuracy is a ratchet that can only move in one direction (better, not worse).\n",
    " Adapt As Needed. Modify the steps as you need on a project, especially as you become more experienced with the template. Blur the edges of tasks, such as steps 4-5 to best serve model accuracy.\n"
   ]
  },
  {
   "cell_type": "raw",
   "metadata": {},
   "source": [
    "First Machine Learning Project\n",
    "in Python Step-By-Step\n",
    "You need to see how all of the pieces of a predictive modeling machine learning project actually fit together. In this tutorial you will complete your first machine learning project using Python.\n",
    "In this step-by-step tutorial project you will:\n",
    " Download and install Python SciPy and get the most useful package for machine learning in Python.\n",
    " Load a dataset and understand it’s structure using statistical summaries and data visualization.\n",
    " Create 6 machine learning models, pick the best and build confidence that the accuracy is reliable.\n",
    "If you are a machine learning beginner and looking to finally get started using Python, this tutorial was designed for you. \n",
    "\n",
    "The Hello World of Machine Learning\n",
    "The best small project to start with on a new tool is the classification of iris flowers. This is a good dataset for your first project because it is so well understood.\n",
    " Attributes are numeric so you have to figure out how to load and handle data.\n",
    " It is a classification problem, allowing you to practice with an easier type of supervised learning algorithm.\n",
    " It is a multiclass classification problem (multi-nominal) that may require some specialized handling.\n",
    " It only has 4 attributes and 150 rows, meaning it is small and easily fits into memory (and a screen or single sheet of paper).\n",
    " All of the numeric attributes are in the same units and the same scale not requiring any special scaling or transforms to get started.\n",
    "\n",
    "Load The Data \n",
    "In this tutorial we are going to work through a small machine learning project end-to-end.Here is an overview of what we are going to cover:\n",
    "1. Loading the dataset.\n",
    "2. Summarizing the dataset.\n",
    "3. Visualizing the dataset.\n",
    "4. Evaluating some algorithms.\n",
    "5. Making some predictions.\n",
    "Take your time and work through each step. Try to type in the commands yourself or copy-and-paste the commands to speed things up. Start your Python interactive environment and let’s get started with your hello world machine learning project in Python.\n",
    "\n",
    "Load The Data\n",
    "In this step we are going to load the libraries and the iris data CSV file from URL.\n",
    "\n",
    "Import libraries\n",
    "First, let’s import all of the modules, functions and objects we are going to use in this tutorial."
   ]
  },
  {
   "cell_type": "code",
   "execution_count": 2,
   "metadata": {
    "collapsed": true
   },
   "outputs": [],
   "source": [
    "# Load libraries\n",
    "from pandas import read_csv\n",
    "from pandas.plotting import scatter_matrix\n",
    "from matplotlib import pyplot\n",
    "from sklearn.model_selection import train_test_split\n",
    "from sklearn.model_selection import KFold\n",
    "from sklearn.model_selection import cross_val_score\n",
    "from sklearn.metrics import classification_report\n",
    "from sklearn.metrics import confusion_matrix\n",
    "from sklearn.metrics import accuracy_score\n",
    "from sklearn.linear_model import LogisticRegression\n",
    "from sklearn.tree import DecisionTreeClassifier\n",
    "from sklearn.neighbors import KNeighborsClassifier\n",
    "from sklearn.discriminant_analysis import LinearDiscriminantAnalysis\n",
    "from sklearn.naive_bayes import GaussianNB\n",
    "from sklearn.svm import SVC"
   ]
  },
  {
   "cell_type": "raw",
   "metadata": {},
   "source": [
    "Everything should load without error. If you have an error, stop. You need a working SciPy environment before continuing.\n",
    "\n",
    "Load Dataset\n",
    "The iris dataset can be downloaded from the UCI Machine Learning repository1. We are using Pandas to load the data. We will also use Pandas next to explore the data both with descriptive statistics and data visualization. Note that we are specifying the names of each column when loading the data. This will help later when we explore the data."
   ]
  },
  {
   "cell_type": "code",
   "execution_count": 3,
   "metadata": {
    "collapsed": true
   },
   "outputs": [],
   "source": [
    "# Load dataset\n",
    "filename = 'iris.csv'\n",
    "names = ['sepal-length', 'sepal-width', 'petal-length', 'petal-width', 'class']\n",
    "dataset = read_csv(filename, names=names)"
   ]
  },
  {
   "cell_type": "raw",
   "metadata": {},
   "source": [
    "Summarize the Dataset\n",
    "Now it is time to take a look at the data. In this step we are going to take a look at the data a few different ways:\n",
    " Dimensions of the dataset.\n",
    " Peek at the data itself.\n",
    " Statistical summary of all attributes.\n",
    " Breakdown of the data by the class variable.\n",
    "Dimensions of Dataset\n",
    "We can get a quick idea of how many instances (rows) and how many attributes (columns) the data contains with the shape property."
   ]
  },
  {
   "cell_type": "code",
   "execution_count": 4,
   "metadata": {},
   "outputs": [
    {
     "name": "stdout",
     "output_type": "stream",
     "text": [
      "(150, 5)\n"
     ]
    }
   ],
   "source": [
    "# shape\n",
    "print(dataset.shape)"
   ]
  },
  {
   "cell_type": "markdown",
   "metadata": {},
   "source": [
    "Peek at the Data\n",
    "It is also always a good idea to actually eyeball your data."
   ]
  },
  {
   "cell_type": "code",
   "execution_count": 5,
   "metadata": {},
   "outputs": [
    {
     "name": "stdout",
     "output_type": "stream",
     "text": [
      "    sepal-length  sepal-width  petal-length  petal-width   class\n",
      "0            5.1          3.5           1.4          0.2  Setosa\n",
      "1            4.9          3.0           1.4          0.2  Setosa\n",
      "2            4.7          3.2           1.3          0.2  Setosa\n",
      "3            4.6          3.1           1.5          0.2  Setosa\n",
      "4            5.0          3.6           1.4          0.2  Setosa\n",
      "5            5.4          3.9           1.7          0.4  Setosa\n",
      "6            4.6          3.4           1.4          0.3  Setosa\n",
      "7            5.0          3.4           1.5          0.2  Setosa\n",
      "8            4.4          2.9           1.4          0.2  Setosa\n",
      "9            4.9          3.1           1.5          0.1  Setosa\n",
      "10           5.4          3.7           1.5          0.2  Setosa\n",
      "11           4.8          3.4           1.6          0.2  Setosa\n",
      "12           4.8          3.0           1.4          0.1  Setosa\n",
      "13           4.3          3.0           1.1          0.1  Setosa\n",
      "14           5.8          4.0           1.2          0.2  Setosa\n",
      "15           5.7          4.4           1.5          0.4  Setosa\n",
      "16           5.4          3.9           1.3          0.4  Setosa\n",
      "17           5.1          3.5           1.4          0.3  Setosa\n",
      "18           5.7          3.8           1.7          0.3  Setosa\n",
      "19           5.1          3.8           1.5          0.3  Setosa\n"
     ]
    }
   ],
   "source": [
    "# head\n",
    "print(dataset.head(20))"
   ]
  },
  {
   "cell_type": "raw",
   "metadata": {},
   "source": [
    "Statistical Summary\n",
    "Now we can take a look at a summary of each attribute. This includes the count, mean, the min and max values as well as some percentiles."
   ]
  },
  {
   "cell_type": "code",
   "execution_count": 6,
   "metadata": {},
   "outputs": [
    {
     "name": "stdout",
     "output_type": "stream",
     "text": [
      "       sepal-length  sepal-width  petal-length  petal-width\n",
      "count    150.000000   150.000000    150.000000   150.000000\n",
      "mean       5.843333     3.057333      3.758000     1.199333\n",
      "std        0.828066     0.435866      1.765298     0.762238\n",
      "min        4.300000     2.000000      1.000000     0.100000\n",
      "25%        5.100000     2.800000      1.600000     0.300000\n",
      "50%        5.800000     3.000000      4.350000     1.300000\n",
      "75%        6.400000     3.300000      5.100000     1.800000\n",
      "max        7.900000     4.400000      6.900000     2.500000\n"
     ]
    }
   ],
   "source": [
    "# descriptions\n",
    "print(dataset.describe())"
   ]
  },
  {
   "cell_type": "raw",
   "metadata": {},
   "source": [
    "We can see that all of the numerical values have the same scale (centimeters) and similar ranges between 0 and 8 centimeters.\n",
    "\n",
    "Class Distribution\n",
    "Let’s now take a look at the number of instances (rows) that belong to each class. We can view this as an absolute count."
   ]
  },
  {
   "cell_type": "code",
   "execution_count": 7,
   "metadata": {},
   "outputs": [
    {
     "name": "stdout",
     "output_type": "stream",
     "text": [
      "class\n",
      "Setosa        50\n",
      "Versicolor    50\n",
      "Virginica     50\n",
      "dtype: int64\n"
     ]
    }
   ],
   "source": [
    "# class distribution\n",
    "print(dataset.groupby('class').size())"
   ]
  },
  {
   "cell_type": "raw",
   "metadata": {},
   "source": [
    "We can see that each class has the same number of instances (50 or 33% of the dataset).\n",
    "\n",
    "Data Visualization\n",
    "We now have a basic idea about the data. We need to extend this with some visualizations. We are going to look at two types of plots:\n",
    " Univariate plots to better understand each attribute.\n",
    " Multivariate plots to better understand the relationships between attributes.\n",
    "Univariate Plots\n",
    "We will start with some univariate plots, that is, plots of each individual variable. Given that the input variables are numeric, we can create box and whisker plots of each."
   ]
  },
  {
   "cell_type": "code",
   "execution_count": 8,
   "metadata": {},
   "outputs": [
    {
     "data": {
      "image/png": "[encoded data removed]",
      "text/plain": [
       "<matplotlib.figure.Figure at 0x10089320>"
      ]
     },
     "metadata": {},
     "output_type": "display_data"
    }
   ],
   "source": [
    "# box and whisker plots\n",
    "dataset.plot(kind='box', subplots=True, layout=(2,2), sharex=False, sharey=False)\n",
    "pyplot.show()"
   ]
  },
  {
   "cell_type": "raw",
   "metadata": {},
   "source": [
    "We can also create a histogram of each input variable to get an idea of the distribution."
   ]
  },
  {
   "cell_type": "code",
   "execution_count": 9,
   "metadata": {},
   "outputs": [
    {
     "data": {
      "image/png": "[encoded data removed]",
      "text/plain": [
       "<matplotlib.figure.Figure at 0x4f20b00>"
      ]
     },
     "metadata": {},
     "output_type": "display_data"
    }
   ],
   "source": [
    "# histograms\n",
    "dataset.hist()\n",
    "pyplot.show()"
   ]
  },
  {
   "cell_type": "raw",
   "metadata": {},
   "source": [
    "It looks like perhaps two of the input variables have a Gaussian distribution. This is useful to note as we can use algorithms that can exploit this assumption.\n",
    "\n",
    "Multivariate Plots\n",
    "Now we can look at the interactions between the variables. Let’s look at scatter plots of all pairs of attributes. This can be helpful to spot structured relationships between input variables."
   ]
  },
  {
   "cell_type": "code",
   "execution_count": 10,
   "metadata": {},
   "outputs": [
    {
     "data": {
      "image/png": "[encoded data removed]",
      "text/plain": [
       "<matplotlib.figure.Figure at 0x131c1320>"
      ]
     },
     "metadata": {},
     "output_type": "display_data"
    }
   ],
   "source": [
    "# scatter plot matrix\n",
    "scatter_matrix(dataset)\n",
    "pyplot.show()"
   ]
  },
  {
   "cell_type": "raw",
   "metadata": {},
   "source": [
    "Note the diagonal grouping of some pairs of attributes. This suggests a high correlation and a predictable relationship.\n",
    "\n",
    "Evaluate Some Algorithms\n",
    "Now it is time to create some models of the data and estimate their accuracy on unseen data. Here is what we are going to cover in this step:\n",
    "1. Separate out a validation dataset.\n",
    "2. Setup the test harness to use 10-fold cross validation.\n",
    "3. Build 5 different models to predict species from flower measurements\n",
    "4. Select the best model.\n",
    "Create a Validation Dataset\n",
    "We need to know whether or not the model that we created is any good. Later, we will use statistical methods to estimate the accuracy of the models that we create on unseen data.We also want a more concrete estimate of the accuracy of the best model on unseen data by evaluating it on actual unseen data. That is, we are going to hold back some data that the algorithms will not get to see and we will use this data to get a second and independent idea of how accurate the best model might actually be. We will split the loaded dataset into two, 80% of which we will use to train our models and 20% that we will hold back as a validation dataset."
   ]
  },
  {
   "cell_type": "code",
   "execution_count": 11,
   "metadata": {
    "collapsed": true
   },
   "outputs": [],
   "source": [
    "# Split-out validation dataset\n",
    "array = dataset.values\n",
    "X = array[:,0:4]\n",
    "Y = array[:,4]\n",
    "validation_size = 0.20\n",
    "seed = 7\n",
    "X_train, X_validation, Y_train, Y_validation = train_test_split(X, Y,\n",
    "test_size=validation_size, random_state=seed)"
   ]
  },
  {
   "cell_type": "raw",
   "metadata": {},
   "source": [
    "You now have training data in the X train and Y train for preparing models and a X validation and Y validation sets that we can use later.\n",
    "\n",
    "Test Harness\n",
    "We will use 10-fold cross validation to estimate accuracy. This will split our dataset into 10 parts, train on 9 and test on 1 and repeat for all combinations of train-test splits. We are using the metric of accuracy to evaluate models. This is a ratio of the number of correctly predicted instances divided by the total number of instances in the dataset multiplied by 100 to give a\n",
    "percentage (e.g. 95% accurate). We will be using the scoring variable when we run build and evaluate each model next.\n",
    "\n",
    "Build Models\n",
    "We don’t know which algorithms would be good on this problem or what configurations to use. We get an idea from the plots that some of the classes are partially linearly separable in some dimensions, so we are expecting generally good results. Let’s evaluate six different algorithms:\n",
    " Logistic Regression (LR).\n",
    " Linear Discriminant Analysis (LDA).\n",
    " k-Nearest Neighbors (KNN).\n",
    " Classification and Regression Trees (CART).\n",
    " Gaussian Naive Bayes (NB).\n",
    " Support Vector Machines (SVM).\n",
    "This list is a good mixture of simple linear (LR and LDA), nonlinear (KNN, CART, NB and SVM) algorithms. We reset the random number seed before each run to ensure that the evaluation of each algorithm is performed using exactly the same data splits. It ensures the results are directly comparable. Let’s build and evaluate our five models:"
   ]
  },
  {
   "cell_type": "code",
   "execution_count": 12,
   "metadata": {},
   "outputs": [
    {
     "name": "stdout",
     "output_type": "stream",
     "text": [
      "LR: 0.966667 (0.040825)\n",
      "LDA: 0.975000 (0.038188)\n",
      "KNN: 0.983333 (0.033333)\n",
      "CART: 0.983333 (0.033333)\n",
      "NB: 0.975000 (0.053359)\n",
      "SVM: 0.991667 (0.025000)\n"
     ]
    }
   ],
   "source": [
    "# Spot-Check Algorithms\n",
    "models = []\n",
    "models.append(('LR', LogisticRegression()))\n",
    "models.append(('LDA', LinearDiscriminantAnalysis()))\n",
    "models.append(('KNN', KNeighborsClassifier()))\n",
    "models.append(('CART', DecisionTreeClassifier()))\n",
    "models.append(('NB', GaussianNB()))\n",
    "models.append(('SVM', SVC()))\n",
    "# evaluate each model in turn\n",
    "results = []\n",
    "names = []\n",
    "for name, model in models:\n",
    "    kfold = KFold(n_splits=10, random_state=seed)\n",
    "    cv_results = cross_val_score(model, X_train, Y_train, cv=kfold, scoring='accuracy')\n",
    "    results.append(cv_results)\n",
    "    names.append(name)\n",
    "    msg = \"%s: %f (%f)\" % (name, cv_results.mean(), cv_results.std())\n",
    "    print(msg)"
   ]
  },
  {
   "cell_type": "raw",
   "metadata": {},
   "source": [
    "Select The Best Model\n",
    "We now have 6 models and accuracy estimations for each. We need to compare the models to each other and select the most accurate. Running the example above, we get the following raw results:\n",
    "\n",
    "We can see that it looks like KNN has the largest estimated accuracy score. We can also create a plot of the model evaluation results and compare the spread and the mean accuracy of each model. There is a population of accuracy measures for each algorithm because each algorithm was evaluated 10 times (10 fold cross validation)."
   ]
  },
  {
   "cell_type": "code",
   "execution_count": 13,
   "metadata": {},
   "outputs": [
    {
     "data": {
      "image/png": "[encoded data removed]",
      "text/plain": [
       "<matplotlib.figure.Figure at 0x1320ef60>"
      ]
     },
     "metadata": {},
     "output_type": "display_data"
    }
   ],
   "source": [
    "# Compare Algorithms\n",
    "fig = pyplot.figure()\n",
    "fig.suptitle('Algorithm Comparison')\n",
    "ax = fig.add_subplot(111)\n",
    "pyplot.boxplot(results)\n",
    "ax.set_xticklabels(names)\n",
    "pyplot.show()"
   ]
  },
  {
   "cell_type": "raw",
   "metadata": {},
   "source": [
    "You can see that the box and whisker plots are squashed at the top of the range, with many samples achieving 100% accuracy.\n",
    "\n",
    "Make Predictions\n",
    "The KNN algorithm was the most accurate model that we tested. Now we want to get an idea of the accuracy of the model on our validation dataset. This will give us an independent final check on the accuracy of the best model. It is important to keep a validation set just in case you made a slip during training, such as overfitting to the training set or a data leak. Both\n",
    "will result in an overly optimistic result. We can run the KNN model directly on the validation set and summarize the results as a final accuracy score, a confusion matrix and a classification report."
   ]
  },
  {
   "cell_type": "code",
   "execution_count": 14,
   "metadata": {},
   "outputs": [
    {
     "name": "stdout",
     "output_type": "stream",
     "text": [
      "0.9\n",
      "[[ 7  0  0]\n",
      " [ 0 11  1]\n",
      " [ 0  2  9]]\n",
      "             precision    recall  f1-score   support\n",
      "\n",
      "     Setosa       1.00      1.00      1.00         7\n",
      " Versicolor       0.85      0.92      0.88        12\n",
      "  Virginica       0.90      0.82      0.86        11\n",
      "\n",
      "avg / total       0.90      0.90      0.90        30\n",
      "\n"
     ]
    }
   ],
   "source": [
    "# Make predictions on validation dataset\n",
    "knn = KNeighborsClassifier()\n",
    "knn.fit(X_train, Y_train)\n",
    "predictions = knn.predict(X_validation)\n",
    "print(accuracy_score(Y_validation, predictions))\n",
    "print(confusion_matrix(Y_validation, predictions))\n",
    "print(classification_report(Y_validation, predictions))"
   ]
  },
  {
   "cell_type": "raw",
   "metadata": {},
   "source": [
    "We can see that the accuracy is 0.9 or 90%. The confusion matrix provides an indication of the three errors made. Finally the classification report provides a breakdown of each class by precision, recall, f1-score and support showing excellent results (granted the validation dataset was small)."
   ]
  },
  {
   "cell_type": "raw",
   "metadata": {},
   "source": [
    "Regression Machine Learning Case Study Project\n",
    "How do you work through a predictive modeling machine learning problem end-to-end? In this tutorial you will work through a case study regression predictive modeling problem in Python including each step of the applied machine learning process. After completing this project, you will know:\n",
    " How to work through a regression predictive modeling problem end-to-end.\n",
    " How to use data transforms to improve model performance.\n",
    " How to use algorithm tuning to improve model performance.\n",
    " How to use ensemble methods and tuning of ensemble methods to improve model performance.\n",
    "\n",
    "Problem Definition\n",
    "For this project we will investigate the Boston House Price dataset. Each record in the database describes a Boston suburb or town. The data was drawn from the Boston Standard Metropolitan Statistical Area (SMSA) in 1970. The attributes are defined as follows (taken from the UCI Machine Learning Repository1):\n",
    "1. CRIM: per capita crime rate by town\n",
    "2. ZN: proportion of residential land zoned for lots over 25,000 sq.ft.\n",
    "3. INDUS: proportion of non-retail business acres per town\n",
    "4. CHAS: Charles River dummy variable (= 1 if tract bounds river; 0 otherwise)\n",
    "5. NOX: nitric oxides concentration (parts per 10 million)\n",
    "6. RM: average number of rooms per dwelling\n",
    "7. AGE: proportion of owner-occupied units built prior to 1940\n",
    "8. DIS: weighted distances to five Boston employment centers\n",
    "9. RAD: index of accessibility to radial highways\n",
    "10. TAX: full-value property-tax rate per $10,000\n",
    "11. PTRATIO: pupil-teacher ratio by town\n",
    "12. B: 1000(Bk − 0:63)2 where Bk is the proportion of blacks by town\n",
    "13. LSTAT: % lower status of the population\n",
    "14. MEDV: Median value of owner-occupied homes in $1000s\n",
    "We can see that the input attributes have a mixture of units.\n",
    "\n",
    "Load the Dataset\n",
    "Let’s start off by loading the libraries required for this project."
   ]
  },
  {
   "cell_type": "code",
   "execution_count": 15,
   "metadata": {
    "collapsed": true
   },
   "outputs": [],
   "source": [
    "# Load libraries\n",
    "import numpy\n",
    "from numpy import arange\n",
    "from matplotlib import pyplot\n",
    "from pandas import read_csv\n",
    "from pandas import set_option\n",
    "from pandas.plotting import scatter_matrix\n",
    "from sklearn.preprocessing import StandardScaler\n",
    "from sklearn.model_selection import train_test_split\n",
    "from sklearn.model_selection import KFold\n",
    "from sklearn.model_selection import cross_val_score\n",
    "from sklearn.model_selection import GridSearchCV\n",
    "from sklearn.linear_model import LinearRegression\n",
    "from sklearn.linear_model import Lasso\n",
    "from sklearn.linear_model import ElasticNet\n",
    "from sklearn.tree import DecisionTreeRegressor\n",
    "from sklearn.neighbors import KNeighborsRegressor\n",
    "from sklearn.svm import SVR\n",
    "from sklearn.pipeline import Pipeline\n",
    "from sklearn.ensemble import RandomForestRegressor\n",
    "from sklearn.ensemble import GradientBoostingRegressor\n",
    "from sklearn.ensemble import ExtraTreesRegressor\n",
    "from sklearn.ensemble import AdaBoostRegressor\n",
    "from sklearn.metrics import mean_squared_error"
   ]
  },
  {
   "cell_type": "raw",
   "metadata": {},
   "source": [
    "We can now load the dataset that you can download from the UCI Machine Learning\n",
    "repository website."
   ]
  },
  {
   "cell_type": "code",
   "execution_count": 16,
   "metadata": {
    "collapsed": true
   },
   "outputs": [],
   "source": [
    "# Load dataset\n",
    "filename = 'housingdata.csv'\n",
    "names = ['CRIM', 'ZN', 'INDUS', 'CHAS', 'NOX', 'RM', 'AGE', 'DIS', 'RAD', 'TAX', 'PTRATIO',\n",
    "'B', 'LSTAT', 'MEDV']\n",
    "dataset = read_csv(filename, delim_whitespace=False, names=names)"
   ]
  },
  {
   "cell_type": "raw",
   "metadata": {},
   "source": [
    "You can see that we are specifying the short names for each attribute so that we can reference them clearly later. You can also see that attributes are delimited by whitespace rather than commas in this file and we indicate this to read csv() function via the delim whitespace argument. We now have our data loaded.\n",
    "\n",
    "Analyze Data\n",
    "We can now take a closer look at our loaded data.\n",
    "\n",
    "Descriptive Statistics\n",
    "Let’s start off by confirming the dimensions of the dataset, e.g. the number of rows and columns."
   ]
  },
  {
   "cell_type": "code",
   "execution_count": 17,
   "metadata": {},
   "outputs": [
    {
     "name": "stdout",
     "output_type": "stream",
     "text": [
      "(506, 14)\n"
     ]
    }
   ],
   "source": [
    "# shape\n",
    "print(dataset.shape)"
   ]
  },
  {
   "cell_type": "raw",
   "metadata": {},
   "source": [
    "We have 506 instances to work with and can confirm the data has 14 attributes including\n",
    "the output attribute MEDV."
   ]
  },
  {
   "cell_type": "code",
   "execution_count": 18,
   "metadata": {},
   "outputs": [
    {
     "name": "stdout",
     "output_type": "stream",
     "text": [
      "CRIM       float64\n",
      "ZN         float64\n",
      "INDUS      float64\n",
      "CHAS         int64\n",
      "NOX        float64\n",
      "RM         float64\n",
      "AGE        float64\n",
      "DIS        float64\n",
      "RAD          int64\n",
      "TAX          int64\n",
      "PTRATIO    float64\n",
      "B          float64\n",
      "LSTAT      float64\n",
      "MEDV       float64\n",
      "dtype: object\n"
     ]
    }
   ],
   "source": [
    "# types\n",
    "print(dataset.dtypes)"
   ]
  },
  {
   "cell_type": "raw",
   "metadata": {},
   "source": [
    "We can see that all of the attributes are numeric, mostly real values (float) and some have\n",
    "been interpreted as integers (int).\n",
    "\n",
    "Let’s now take a peek at the first 20 rows of the data."
   ]
  },
  {
   "cell_type": "code",
   "execution_count": 19,
   "metadata": {},
   "outputs": [
    {
     "name": "stdout",
     "output_type": "stream",
     "text": [
      "       CRIM    ZN  INDUS  CHAS    NOX     RM    AGE     DIS  RAD  TAX  \\\n",
      "0   0.00632  18.0   2.31     0  0.538  6.575   65.2  4.0900    1  296   \n",
      "1   0.02731   0.0   7.07     0  0.469  6.421   78.9  4.9671    2  242   \n",
      "2   0.02729   0.0   7.07     0  0.469  7.185   61.1  4.9671    2  242   \n",
      "3   0.03237   0.0   2.18     0  0.458  6.998   45.8  6.0622    3  222   \n",
      "4   0.06905   0.0   2.18     0  0.458  7.147   54.2  6.0622    3  222   \n",
      "5   0.02985   0.0   2.18     0  0.458  6.430   58.7  6.0622    3  222   \n",
      "6   0.08829  12.5   7.87     0  0.524  6.012   66.6  5.5605    5  311   \n",
      "7   0.14455  12.5   7.87     0  0.524  6.172   96.1  5.9505    5  311   \n",
      "8   0.21124  12.5   7.87     0  0.524  5.631  100.0  6.0821    5  311   \n",
      "9   0.17004  12.5   7.87     0  0.524  6.004   85.9  6.5921    5  311   \n",
      "10  0.22489  12.5   7.87     0  0.524  6.377   94.3  6.3467    5  311   \n",
      "11  0.11747  12.5   7.87     0  0.524  6.009   82.9  6.2267    5  311   \n",
      "12  0.09378  12.5   7.87     0  0.524  5.889   39.0  5.4509    5  311   \n",
      "13  0.62976   0.0   8.14     0  0.538  5.949   61.8  4.7075    4  307   \n",
      "14  0.63796   0.0   8.14     0  0.538  6.096   84.5  4.4619    4  307   \n",
      "15  0.62739   0.0   8.14     0  0.538  5.834   56.5  4.4986    4  307   \n",
      "16  1.05393   0.0   8.14     0  0.538  5.935   29.3  4.4986    4  307   \n",
      "17  0.78420   0.0   8.14     0  0.538  5.990   81.7  4.2579    4  307   \n",
      "18  0.80271   0.0   8.14     0  0.538  5.456   36.6  3.7965    4  307   \n",
      "19  0.72580   0.0   8.14     0  0.538  5.727   69.5  3.7965    4  307   \n",
      "\n",
      "    PTRATIO       B  LSTAT  MEDV  \n",
      "0      15.3  396.90   4.98  24.0  \n",
      "1      17.8  396.90   9.14  21.6  \n",
      "2      17.8  392.83   4.03  34.7  \n",
      "3      18.7  394.63   2.94  33.4  \n",
      "4      18.7  396.90   5.33  36.2  \n",
      "5      18.7  394.12   5.21  28.7  \n",
      "6      15.2  395.60  12.43  22.9  \n",
      "7      15.2  396.90  19.15  27.1  \n",
      "8      15.2  386.63  29.93  16.5  \n",
      "9      15.2  386.71  17.10  18.9  \n",
      "10     15.2  392.52  20.45  15.0  \n",
      "11     15.2  396.90  13.27  18.9  \n",
      "12     15.2  390.50  15.71  21.7  \n",
      "13     21.0  396.90   8.26  20.4  \n",
      "14     21.0  380.02  10.26  18.2  \n",
      "15     21.0  395.62   8.47  19.9  \n",
      "16     21.0  386.85   6.58  23.1  \n",
      "17     21.0  386.75  14.67  17.5  \n",
      "18     21.0  288.99  11.69  20.2  \n",
      "19     21.0  390.95  11.28  18.2  \n"
     ]
    }
   ],
   "source": [
    "# head\n",
    "print(dataset.head(20))"
   ]
  },
  {
   "cell_type": "markdown",
   "metadata": {},
   "source": [
    "We can confirm that the scales for the attributes are all over the place because of the differing\n",
    "units. We may benefit from some transforms later on."
   ]
  },
  {
   "cell_type": "code",
   "execution_count": 20,
   "metadata": {},
   "outputs": [
    {
     "name": "stdout",
     "output_type": "stream",
     "text": [
      "          CRIM     ZN  INDUS     CHAS    NOX     RM    AGE    DIS    RAD  \\\n",
      "count  5.1e+02  506.0  506.0  5.1e+02  506.0  506.0  506.0  506.0  506.0   \n",
      "mean   3.6e+00   11.4   11.1  6.9e-02    0.6    6.3   68.6    3.8    9.5   \n",
      "std    8.6e+00   23.3    6.9  2.5e-01    0.1    0.7   28.1    2.1    8.7   \n",
      "min    6.3e-03    0.0    0.5  0.0e+00    0.4    3.6    2.9    1.1    1.0   \n",
      "25%    8.2e-02    0.0    5.2  0.0e+00    0.4    5.9   45.0    2.1    4.0   \n",
      "50%    2.6e-01    0.0    9.7  0.0e+00    0.5    6.2   77.5    3.2    5.0   \n",
      "75%    3.7e+00   12.5   18.1  0.0e+00    0.6    6.6   94.1    5.2   24.0   \n",
      "max    8.9e+01  100.0   27.7  1.0e+00    0.9    8.8  100.0   12.1   24.0   \n",
      "\n",
      "         TAX  PTRATIO      B  LSTAT   MEDV  \n",
      "count  506.0    506.0  506.0  506.0  506.0  \n",
      "mean   408.2     18.5  356.7   12.7   22.5  \n",
      "std    168.5      2.2   91.3    7.1    9.2  \n",
      "min    187.0     12.6    0.3    1.7    5.0  \n",
      "25%    279.0     17.4  375.4    6.9   17.0  \n",
      "50%    330.0     19.1  391.4   11.4   21.2  \n",
      "75%    666.0     20.2  396.2   17.0   25.0  \n",
      "max    711.0     22.0  396.9   38.0   50.0  \n"
     ]
    }
   ],
   "source": [
    "# descriptions\n",
    "set_option('precision', 1)\n",
    "print(dataset.describe())"
   ]
  },
  {
   "cell_type": "raw",
   "metadata": {},
   "source": [
    "We now have a better feeling for how different the attributes are. The min and max values\n",
    "as well are the means vary a lot. We are likely going to get better results by rescaling the data\n",
    "in some way."
   ]
  },
  {
   "cell_type": "code",
   "execution_count": 21,
   "metadata": {},
   "outputs": [
    {
     "name": "stdout",
     "output_type": "stream",
     "text": [
      "         CRIM    ZN  INDUS      CHAS   NOX    RM   AGE   DIS       RAD   TAX  \\\n",
      "CRIM     1.00 -0.20   0.41 -5.59e-02  0.42 -0.22  0.35 -0.38  6.26e-01  0.58   \n",
      "ZN      -0.20  1.00  -0.53 -4.27e-02 -0.52  0.31 -0.57  0.66 -3.12e-01 -0.31   \n",
      "INDUS    0.41 -0.53   1.00  6.29e-02  0.76 -0.39  0.64 -0.71  5.95e-01  0.72   \n",
      "CHAS    -0.06 -0.04   0.06  1.00e+00  0.09  0.09  0.09 -0.10 -7.37e-03 -0.04   \n",
      "NOX      0.42 -0.52   0.76  9.12e-02  1.00 -0.30  0.73 -0.77  6.11e-01  0.67   \n",
      "RM      -0.22  0.31  -0.39  9.13e-02 -0.30  1.00 -0.24  0.21 -2.10e-01 -0.29   \n",
      "AGE      0.35 -0.57   0.64  8.65e-02  0.73 -0.24  1.00 -0.75  4.56e-01  0.51   \n",
      "DIS     -0.38  0.66  -0.71 -9.92e-02 -0.77  0.21 -0.75  1.00 -4.95e-01 -0.53   \n",
      "RAD      0.63 -0.31   0.60 -7.37e-03  0.61 -0.21  0.46 -0.49  1.00e+00  0.91   \n",
      "TAX      0.58 -0.31   0.72 -3.56e-02  0.67 -0.29  0.51 -0.53  9.10e-01  1.00   \n",
      "PTRATIO  0.29 -0.39   0.38 -1.22e-01  0.19 -0.36  0.26 -0.23  4.65e-01  0.46   \n",
      "B       -0.39  0.18  -0.36  4.88e-02 -0.38  0.13 -0.27  0.29 -4.44e-01 -0.44   \n",
      "LSTAT    0.46 -0.41   0.60 -5.39e-02  0.59 -0.61  0.60 -0.50  4.89e-01  0.54   \n",
      "MEDV    -0.39  0.36  -0.48  1.75e-01 -0.43  0.70 -0.38  0.25 -3.82e-01 -0.47   \n",
      "\n",
      "         PTRATIO     B  LSTAT  MEDV  \n",
      "CRIM        0.29 -0.39   0.46 -0.39  \n",
      "ZN         -0.39  0.18  -0.41  0.36  \n",
      "INDUS       0.38 -0.36   0.60 -0.48  \n",
      "CHAS       -0.12  0.05  -0.05  0.18  \n",
      "NOX         0.19 -0.38   0.59 -0.43  \n",
      "RM         -0.36  0.13  -0.61  0.70  \n",
      "AGE         0.26 -0.27   0.60 -0.38  \n",
      "DIS        -0.23  0.29  -0.50  0.25  \n",
      "RAD         0.46 -0.44   0.49 -0.38  \n",
      "TAX         0.46 -0.44   0.54 -0.47  \n",
      "PTRATIO     1.00 -0.18   0.37 -0.51  \n",
      "B          -0.18  1.00  -0.37  0.33  \n",
      "LSTAT       0.37 -0.37   1.00 -0.74  \n",
      "MEDV       -0.51  0.33  -0.74  1.00  \n"
     ]
    }
   ],
   "source": [
    "# correlation\n",
    "set_option('precision', 2)\n",
    "print(dataset.corr(method='pearson'))"
   ]
  },
  {
   "cell_type": "raw",
   "metadata": {},
   "source": [
    "This is interesting. We can see that many of the attributes have a strong correlation (e.g.> 0:70 or < −0:70). For example:\n",
    " NOX and INDUS with 0.77.\n",
    " DIS and INDUS with -0.71.\n",
    " TAX and INDUS with 0.72.\n",
    " AGE and NOX with 0.73.\n",
    " DIS and NOX with -0.78.\n",
    "It also looks like LSTAT has a good negative correlation with the output variable MEDV with\n",
    "a value of -0.74.\n",
    "\n",
    "Data Visualizations\n",
    "Unimodal Data Visualizations\n",
    "Let’s look at visualizations of individual attributes. It is often useful to look at your data using multiple different visualizations in order to spark ideas. Let’s look at histograms of each attribute to get a sense of the data distributions."
   ]
  },
  {
   "cell_type": "code",
   "execution_count": 22,
   "metadata": {},
   "outputs": [
    {
     "data": {
      "image/png": "[encoded data removed]",
      "text/plain": [
       "<matplotlib.figure.Figure at 0x13f9cb38>"
      ]
     },
     "metadata": {},
     "output_type": "display_data"
    }
   ],
   "source": [
    "# histograms\n",
    "dataset.hist(sharex=False, sharey=False, xlabelsize=1, ylabelsize=1)\n",
    "pyplot.show()"
   ]
  },
  {
   "cell_type": "raw",
   "metadata": {},
   "source": [
    "We can see that some attributes may have an exponential distribution, such as CRIM, ZN,\n",
    "AGE and B. We can see that others may have a bimodal distribution such as RAD and TAX."
   ]
  },
  {
   "cell_type": "code",
   "execution_count": 23,
   "metadata": {},
   "outputs": [
    {
     "data": {
      "image/png": "[encoded data removed]",
      "text/plain": [
       "<matplotlib.figure.Figure at 0x121492e8>"
      ]
     },
     "metadata": {},
     "output_type": "display_data"
    }
   ],
   "source": [
    "# density\n",
    "dataset.plot(kind='density', subplots=True, layout=(4,4), sharex=False, legend=False,fontsize=1)\n",
    "pyplot.show()"
   ]
  },
  {
   "cell_type": "raw",
   "metadata": {},
   "source": [
    "This perhaps adds more evidence to our suspicion about possible exponential and bimodal\n",
    "distributions. It also looks like NOX, RM and LSTAT may be skewed Gaussian distributions, which\n",
    "might be helpful later with transforms."
   ]
  },
  {
   "cell_type": "code",
   "execution_count": 24,
   "metadata": {},
   "outputs": [
    {
     "data": {
      "image/png": "[encoded data removed]",
      "text/plain": [
       "<matplotlib.figure.Figure at 0x141850f0>"
      ]
     },
     "metadata": {},
     "output_type": "display_data"
    }
   ],
   "source": [
    "# box and whisker plots\n",
    "dataset.plot(kind='box', subplots=True, layout=(4,4), sharex=False, sharey=False,\n",
    "fontsize=8)\n",
    "pyplot.show()"
   ]
  },
  {
   "cell_type": "raw",
   "metadata": {},
   "source": [
    "This helps point out the skew in many distributions so much so that data looks like outliers\n",
    "(e.g. beyond the whisker of the plots).\n",
    "\n",
    "Multimodal Data Visualizations\n",
    "Let’s look at some visualizations of the interactions between variables. The best place to start\n",
    "is a scatter plot matrix."
   ]
  },
  {
   "cell_type": "code",
   "execution_count": 25,
   "metadata": {},
   "outputs": [
    {
     "data": {
      "image/png": "[encoded data removed]",
      "text/plain": [
       "<matplotlib.figure.Figure at 0x13f02a20>"
      ]
     },
     "metadata": {},
     "output_type": "display_data"
    }
   ],
   "source": [
    "# scatter plot matrix\n",
    "scatter_matrix(dataset)\n",
    "pyplot.show()"
   ]
  },
  {
   "cell_type": "markdown",
   "metadata": {},
   "source": [
    "We can see that some of the higher correlated attributes do show good structure in their\n",
    "relationship. Not linear, but nice predictable curved relationships."
   ]
  },
  {
   "cell_type": "code",
   "execution_count": 26,
   "metadata": {},
   "outputs": [
    {
     "data": {
      "image/png": "[encoded data removed]",
      "text/plain": [
       "<matplotlib.figure.Figure at 0x172db048>"
      ]
     },
     "metadata": {},
     "output_type": "display_data"
    }
   ],
   "source": [
    "# correlation matrix\n",
    "fig = pyplot.figure()\n",
    "ax = fig.add_subplot(111)\n",
    "cax = ax.matshow(dataset.corr(), vmin=-1, vmax=1, interpolation='none')\n",
    "fig.colorbar(cax)\n",
    "ticks = numpy.arange(0,14,1)\n",
    "ax.set_xticks(ticks)\n",
    "ax.set_yticks(ticks)\n",
    "ax.set_xticklabels(names)\n",
    "ax.set_yticklabels(names)\n",
    "pyplot.show()"
   ]
  },
  {
   "cell_type": "raw",
   "metadata": {},
   "source": [
    "The dark red color shows positive correlation whereas the dark blue color shows negative correlation. We can also see some dark red and dark blue that suggest candidates for removal to better improve accuracy of models later on.\n",
    "\n",
    "Summary of Ideas\n",
    "There is a lot of structure in this dataset. We need to think about transforms that we could use later to better expose the structure which in turn may improve modeling accuracy. So far it would be worth trying:\n",
    " Feature selection and removing the most correlated attributes.\n",
    " Normalizing the dataset to reduce the effect of differing scales.\n",
    " Standardizing the dataset to reduce the effects of differing distributions.\n",
    "With lots of additional time I would also explore the possibility of binning (discretization) of the data. This can often improve accuracy for decision tree algorithms.\n",
    "\n",
    "Validation Dataset\n",
    "It is a good idea to use a validation hold-out set. This is a sample of the data that we hold back from our analysis and modeling. We use it right at the end of our project to confirm the accuracy of our final model. It is a smoke test that we can use to see if we messed up and to give us confidence on our estimates of accuracy on unseen data. We will use 80% of the dataset\n",
    "for modeling and hold back 20% for validation."
   ]
  },
  {
   "cell_type": "code",
   "execution_count": 27,
   "metadata": {
    "collapsed": true
   },
   "outputs": [],
   "source": [
    "# Split-out validation dataset\n",
    "array = dataset.values\n",
    "X = array[:,0:13]\n",
    "Y = array[:,13]\n",
    "validation_size = 0.20\n",
    "seed = 7\n",
    "X_train, X_validation, Y_train, Y_validation = train_test_split(X, Y,\n",
    "test_size=validation_size, random_state=seed)"
   ]
  },
  {
   "cell_type": "raw",
   "metadata": {},
   "source": [
    "Evaluate Algorithms: Baseline\n",
    "We have no idea what algorithms will do well on this problem. Gut feel suggests regression algorithms like Linear Regression and ElasticNet may do well. It is also possible that decision trees and even SVM may do well. I have no idea. Let’s design our test harness. We will use 10-fold cross validation. The dataset is not too small and this is a good standard test harness\n",
    "configuration. We will evaluate algorithms using the Mean Squared Error (MSE) metric. MSE will give a gross idea of how wrong all predictions are (0 is perfect)."
   ]
  },
  {
   "cell_type": "code",
   "execution_count": 28,
   "metadata": {
    "collapsed": true
   },
   "outputs": [],
   "source": [
    "# Test options and evaluation metric\n",
    "num_folds = 10\n",
    "seed = 7\n",
    "scoring = 'neg_mean_squared_error'"
   ]
  },
  {
   "cell_type": "raw",
   "metadata": {},
   "source": [
    "Let’s create a baseline of performance on this problem and spot-check a number of different algorithms. We will select a suite of different algorithms capable of working on this regression problem. The six algorithms selected include:\n",
    " Linear Algorithms: Linear Regression (LR), Lasso Regression (LASSO) and ElasticNet (EN).\n",
    " Nonlinear Algorithms: Classification and Regression Trees (CART), Support Vector Regression (SVR) and k-Nearest Neighbors (KNN)."
   ]
  },
  {
   "cell_type": "code",
   "execution_count": 29,
   "metadata": {
    "collapsed": true
   },
   "outputs": [],
   "source": [
    "# Spot-Check Algorithms\n",
    "models = []\n",
    "models.append(('LR', LinearRegression()))\n",
    "models.append(('LASSO', Lasso()))\n",
    "models.append(('EN', ElasticNet()))\n",
    "models.append(('KNN', KNeighborsRegressor()))\n",
    "models.append(('CART', DecisionTreeRegressor()))\n",
    "models.append(('SVR', SVR()))"
   ]
  },
  {
   "cell_type": "raw",
   "metadata": {},
   "source": [
    "The algorithms all use default tuning parameters. Let’s compare the algorithms. We will\n",
    "display the mean and standard deviation of MSE for each algorithm as we calculate it and\n",
    "collect the results for use later."
   ]
  },
  {
   "cell_type": "code",
   "execution_count": 30,
   "metadata": {},
   "outputs": [
    {
     "name": "stdout",
     "output_type": "stream",
     "text": [
      "LR: -21.379856 (9.414264)\n",
      "LASSO: -26.423561 (11.651110)\n",
      "EN: -27.502259 (12.305022)\n",
      "KNN: -41.896488 (13.901688)\n",
      "CART: -23.162888 (12.337734)\n",
      "SVR: -85.518342 (31.994798)\n"
     ]
    }
   ],
   "source": [
    "# evaluate each model in turn\n",
    "results = []\n",
    "names = []\n",
    "for name, model in models:\n",
    "    kfold = KFold(n_splits=num_folds, random_state=seed)\n",
    "    cv_results = cross_val_score(model, X_train, Y_train, cv=kfold, scoring=scoring)\n",
    "    results.append(cv_results)\n",
    "    names.append(name)\n",
    "    msg = \"%s: %f (%f)\" % (name, cv_results.mean(), cv_results.std())\n",
    "    print(msg)"
   ]
  },
  {
   "cell_type": "raw",
   "metadata": {},
   "source": [
    "It looks like LR has the lowest MSE, followed closely by CART.\n",
    "\n",
    "Let’s take a look at the distribution of scores across all cross validation folds by algorithm."
   ]
  },
  {
   "cell_type": "code",
   "execution_count": 31,
   "metadata": {},
   "outputs": [
    {
     "data": {
      "image/png": "[encoded data removed]",
      "text/plain": [
       "<matplotlib.figure.Figure at 0x18a89160>"
      ]
     },
     "metadata": {},
     "output_type": "display_data"
    }
   ],
   "source": [
    "# Compare Algorithms\n",
    "fig = pyplot.figure()\n",
    "fig.suptitle('Algorithm Comparison')\n",
    "ax = fig.add_subplot(111)\n",
    "pyplot.boxplot(results)\n",
    "ax.set_xticklabels(names)\n",
    "pyplot.show()"
   ]
  },
  {
   "cell_type": "raw",
   "metadata": {},
   "source": [
    "We can see similar distributions for the regression algorithms and perhaps a tighter distribution of scores for CART.\n",
    "\n",
    "The differing scales of the data is probably hurting the skill of all of the algorithms and perhaps more so for SVR and KNN. In the next section we will look at running the same algorithms using a standardized copy of the data.\n",
    "\n",
    "Evaluate Algorithms: Standardization\n",
    "We suspect that the differing scales of the raw data may be negatively impacting the skill of some of the algorithms. Let’s evaluate the same algorithms with a standardized copy of the dataset. This is where the data is transformed such that each attribute has a mean value of zero and a standard deviation of 1. We also need to avoid data leakage when we transform the\n",
    "data. A good way to avoid leakage is to use pipelines that standardize the data and build the model for each fold in the cross validation test harness. That way we can get a fair estimation of how each model with standardized data might perform on unseen data."
   ]
  },
  {
   "cell_type": "code",
   "execution_count": 32,
   "metadata": {
    "scrolled": true
   },
   "outputs": [
    {
     "name": "stdout",
     "output_type": "stream",
     "text": [
      "ScaledLR: -21.379856 (9.414264)\n",
      "ScaledLASSO: -26.607314 (8.978761)\n",
      "ScaledEN: -27.932372 (10.587490)\n",
      "ScaledKNN: -20.107620 (12.376949)\n",
      "ScaledCART: -22.917847 (9.269510)\n",
      "ScaledSVR: -29.633086 (17.009186)\n"
     ]
    }
   ],
   "source": [
    "# Standardize the dataset\n",
    "pipelines = []\n",
    "pipelines.append(('ScaledLR', Pipeline([('Scaler', StandardScaler()),('LR',\n",
    "LinearRegression())])))\n",
    "pipelines.append(('ScaledLASSO', Pipeline([('Scaler', StandardScaler()),('LASSO',\n",
    "Lasso())])))\n",
    "pipelines.append(('ScaledEN', Pipeline([('Scaler', StandardScaler()),('EN',\n",
    "ElasticNet())])))\n",
    "pipelines.append(('ScaledKNN', Pipeline([('Scaler', StandardScaler()),('KNN',\n",
    "KNeighborsRegressor())])))\n",
    "pipelines.append(('ScaledCART', Pipeline([('Scaler', StandardScaler()),('CART',\n",
    "DecisionTreeRegressor())])))\n",
    "pipelines.append(('ScaledSVR', Pipeline([('Scaler', StandardScaler()),('SVR', SVR())])))\n",
    "results = []\n",
    "names = []\n",
    "for name, model in pipelines:\n",
    "    kfold = KFold(n_splits=num_folds, random_state=seed)\n",
    "    cv_results = cross_val_score(model, X_train, Y_train, cv=kfold, scoring=scoring)\n",
    "    results.append(cv_results)\n",
    "    names.append(name)\n",
    "    msg = \"%s: %f (%f)\" % (name, cv_results.mean(), cv_results.std())\n",
    "    print(msg)"
   ]
  },
  {
   "cell_type": "raw",
   "metadata": {},
   "source": [
    "Running the example provides a list of mean squared errors. We can see that scaling did\n",
    "have an effect on KNN, driving the error lower than the other models.\n",
    "\n",
    "Let’s take a look at the distribution of the scores across the cross validation folds."
   ]
  },
  {
   "cell_type": "code",
   "execution_count": 33,
   "metadata": {},
   "outputs": [
    {
     "data": {
      "image/png": "[encoded data removed]",
      "text/plain": [
       "<matplotlib.figure.Figure at 0x18bba2e8>"
      ]
     },
     "metadata": {},
     "output_type": "display_data"
    }
   ],
   "source": [
    "# Compare Algorithms\n",
    "fig = pyplot.figure()\n",
    "fig.suptitle('Scaled Algorithm Comparison')\n",
    "ax = fig.add_subplot(111)\n",
    "pyplot.boxplot(results)\n",
    "ax.set_xticklabels(names)\n",
    "pyplot.show()"
   ]
  },
  {
   "cell_type": "raw",
   "metadata": {},
   "source": [
    "We can see that KNN has both a tight distribution of error and has the lowest score.\n",
    "\n",
    "Improve Results With Tuning\n",
    "We know from the results in the previous section that KNN achieves good results on a scaled\n",
    "version of the dataset. But can it do better. The default value for the number of neighbors in\n",
    "KNN is 7. We can use a grid search to try a set of different numbers of neighbors and see if we\n",
    "can improve the score. The below example tries odd k values from 1 to 21, an arbitrary range\n",
    "covering a known good value of 7. Each k value (n neighbors) is evaluated using 10-fold cross\n",
    "validation on a standardized copy of the training dataset."
   ]
  },
  {
   "cell_type": "code",
   "execution_count": 34,
   "metadata": {
    "collapsed": true
   },
   "outputs": [],
   "source": [
    "# KNN Algorithm tuning\n",
    "scaler = StandardScaler().fit(X_train)\n",
    "rescaledX = scaler.transform(X_train)\n",
    "k_values = numpy.array([1,3,5,7,9,11,13,15,17,19,21])\n",
    "param_grid = dict(n_neighbors=k_values)\n",
    "model = KNeighborsRegressor()\n",
    "kfold = KFold(n_splits=num_folds, random_state=seed)\n",
    "grid = GridSearchCV(estimator=model, param_grid=param_grid, scoring=scoring, cv=kfold)\n",
    "grid_result = grid.fit(rescaledX, Y_train)"
   ]
  },
  {
   "cell_type": "raw",
   "metadata": {},
   "source": [
    "We can display the mean and standard deviation scores as well as the best performing value\n",
    "for k below."
   ]
  },
  {
   "cell_type": "code",
   "execution_count": 35,
   "metadata": {},
   "outputs": [
    {
     "name": "stdout",
     "output_type": "stream",
     "text": [
      "Best: -18.172137 using {'n_neighbors': 3}\n",
      "-20.208663 (15.029652) with: {'n_neighbors': 1}\n",
      "-18.172137 (12.950570) with: {'n_neighbors': 3}\n",
      "-20.131163 (12.203697) with: {'n_neighbors': 5}\n",
      "-20.575845 (12.345886) with: {'n_neighbors': 7}\n",
      "-20.368264 (11.621738) with: {'n_neighbors': 9}\n",
      "-21.009204 (11.610012) with: {'n_neighbors': 11}\n",
      "-21.151809 (11.943318) with: {'n_neighbors': 13}\n",
      "-21.557400 (11.536339) with: {'n_neighbors': 15}\n",
      "-22.789938 (11.566861) with: {'n_neighbors': 17}\n",
      "-23.871873 (11.340389) with: {'n_neighbors': 19}\n",
      "-24.361362 (11.914786) with: {'n_neighbors': 21}\n"
     ]
    }
   ],
   "source": [
    "print(\"Best: %f using %s\" % (grid_result.best_score_, grid_result.best_params_))\n",
    "means = grid_result.cv_results_['mean_test_score']\n",
    "stds = grid_result.cv_results_['std_test_score']\n",
    "params = grid_result.cv_results_['params']\n",
    "for mean, stdev, param in zip(means, stds, params):\n",
    "    print(\"%f (%f) with: %r\" % (mean, stdev, param))"
   ]
  },
  {
   "cell_type": "raw",
   "metadata": {},
   "source": [
    "You can see that the best for k (n neighbors) is 3 providing a mean squared error of\n",
    "-18.172137, the best so far.\n",
    "\n",
    "Ensemble Methods\n",
    "Another way that we can improve the performance of algorithms on this problem is by using\n",
    "ensemble methods. In this section we will evaluate four different ensemble machine learning\n",
    "algorithms, two boosting and two bagging methods:\n",
    " Boosting Methods: AdaBoost (AB) and Gradient Boosting (GBM).\n",
    " Bagging Methods: Random Forests (RF) and Extra Trees (ET).\n",
    "We will use the same test harness as before, 10-fold cross validation and pipelines that\n",
    "standardize the training data for each fold."
   ]
  },
  {
   "cell_type": "code",
   "execution_count": 36,
   "metadata": {},
   "outputs": [
    {
     "name": "stdout",
     "output_type": "stream",
     "text": [
      "ScaledAB: -14.954003 (6.593934)\n",
      "ScaledGBM: -10.106367 (4.544423)\n",
      "ScaledRF: -13.182535 (6.751008)\n",
      "ScaledET: -10.340156 (5.795315)\n"
     ]
    }
   ],
   "source": [
    "# ensembles\n",
    "ensembles = []\n",
    "ensembles.append(('ScaledAB', Pipeline([('Scaler', StandardScaler()),('AB',\n",
    "AdaBoostRegressor())])))\n",
    "ensembles.append(('ScaledGBM', Pipeline([('Scaler', StandardScaler()),('GBM',\n",
    "GradientBoostingRegressor())])))\n",
    "ensembles.append(('ScaledRF', Pipeline([('Scaler', StandardScaler()),('RF',\n",
    "RandomForestRegressor())])))\n",
    "ensembles.append(('ScaledET', Pipeline([('Scaler', StandardScaler()),('ET',\n",
    "ExtraTreesRegressor())])))\n",
    "results = []\n",
    "names = []\n",
    "for name, model in ensembles:\n",
    "    kfold = KFold(n_splits=num_folds, random_state=seed)\n",
    "    cv_results = cross_val_score(model, X_train, Y_train, cv=kfold, scoring=scoring)\n",
    "    results.append(cv_results)\n",
    "    names.append(name)\n",
    "    msg = \"%s: %f (%f)\" % (name, cv_results.mean(), cv_results.std())\n",
    "    print(msg)"
   ]
  },
  {
   "cell_type": "raw",
   "metadata": {},
   "source": [
    "Running the example calculates the mean squared error for each method using the default parameters. We can see that we’re generally getting better scores than our linear and nonlinear algorithms in previous sections.\n",
    "ScaledAB: -14.964638 (6.069505)\n",
    "ScaledGBM: -9.999626 (4.391458)\n",
    "ScaledRF: -13.676055 (6.968407)\n",
    "ScaledET: -11.497637 (7.164636)\n",
    "Output from Evaluating Ensemble Algorithms.\n",
    "We can also plot the distribution of scores across the cross validation folds."
   ]
  },
  {
   "cell_type": "code",
   "execution_count": 37,
   "metadata": {},
   "outputs": [
    {
     "data": {
      "image/png": "[encoded data removed]",
      "text/plain": [
       "<matplotlib.figure.Figure at 0x18cb4908>"
      ]
     },
     "metadata": {},
     "output_type": "display_data"
    }
   ],
   "source": [
    "# Compare Algorithms\n",
    "fig = pyplot.figure()\n",
    "fig.suptitle('Scaled Ensemble Algorithm Comparison')\n",
    "ax = fig.add_subplot(111)\n",
    "pyplot.boxplot(results)\n",
    "ax.set_xticklabels(names)\n",
    "pyplot.show()"
   ]
  },
  {
   "cell_type": "raw",
   "metadata": {},
   "source": [
    "It looks like Gradient Boosting has a better mean score, it also looks like Extra Trees has a\n",
    "similar distribution and perhaps a better median score.\n",
    "\n",
    "We can probably do better, given that the ensemble techniques used the default parameters.\n",
    "In the next section we will look at tuning the Gradient Boosting to further lift the performance.\n",
    "\n",
    "Tune Ensemble Methods\n",
    "The default number of boosting stages to perform (n estimators) is 100. This is a good\n",
    "candidate parameter of Gradient Boosting to tune. Often, the larger the number of boosting\n",
    "stages, the better the performance but the longer the training time. In this section we will\n",
    "look at tuning the number of stages for gradient boosting. Below we define a parameter grid\n",
    "n estimators values from 50 to 400 in increments of 50. Each setting is evaluated using 10-fold\n",
    "cross validation."
   ]
  },
  {
   "cell_type": "code",
   "execution_count": 38,
   "metadata": {},
   "outputs": [
    {
     "name": "stdout",
     "output_type": "stream",
     "text": [
      "Best: -9.356471 using {'n_estimators': 400}\n",
      "-10.812167 (4.724394) with: {'n_estimators': 50}\n",
      "-10.040857 (4.441758) with: {'n_estimators': 100}\n",
      "-9.694096 (4.275762) with: {'n_estimators': 150}\n",
      "-9.539706 (4.270637) with: {'n_estimators': 200}\n",
      "-9.448764 (4.262603) with: {'n_estimators': 250}\n",
      "-9.429946 (4.273791) with: {'n_estimators': 300}\n",
      "-9.369824 (4.254108) with: {'n_estimators': 350}\n",
      "-9.356471 (4.267837) with: {'n_estimators': 400}\n"
     ]
    }
   ],
   "source": [
    "# Tune scaled GBM\n",
    "scaler = StandardScaler().fit(X_train)\n",
    "rescaledX = scaler.transform(X_train)\n",
    "param_grid = dict(n_estimators=numpy.array([50,100,150,200,250,300,350,400]))\n",
    "model = GradientBoostingRegressor(random_state=seed)\n",
    "kfold = KFold(n_splits=num_folds, random_state=seed)\n",
    "grid = GridSearchCV(estimator=model, param_grid=param_grid, scoring=scoring, cv=kfold)\n",
    "grid_result = grid.fit(rescaledX, Y_train)\n",
    "print(\"Best: %f using %s\" % (grid_result.best_score_, grid_result.best_params_))\n",
    "means = grid_result.cv_results_['mean_test_score']\n",
    "stds = grid_result.cv_results_['std_test_score']\n",
    "params = grid_result.cv_results_['params']\n",
    "for mean, stdev, param in zip(means, stds, params):\n",
    "    print(\"%f (%f) with: %r\" % (mean, stdev, param))"
   ]
  },
  {
   "cell_type": "raw",
   "metadata": {},
   "source": [
    "We can see that the best configuration was n estimators=400 resulting in a mean squared\n",
    "error of -9.356471, about 0.65 units better than the untuned method."
   ]
  },
  {
   "cell_type": "raw",
   "metadata": {},
   "source": [
    "# Finalize Model\n",
    "In this section we will finalize the gradient boosting model and evaluate it on our hold out\n",
    "validation dataset. First we need to prepare the model and train it on the entire training dataset.\n",
    "This includes standardizing the training dataset before training."
   ]
  },
  {
   "cell_type": "code",
   "execution_count": 39,
   "metadata": {},
   "outputs": [
    {
     "name": "stdout",
     "output_type": "stream",
     "text": [
      "11.875252079219903\n"
     ]
    }
   ],
   "source": [
    "# prepare the model\n",
    "scaler = StandardScaler().fit(X_train)\n",
    "rescaledX = scaler.transform(X_train)\n",
    "model = GradientBoostingRegressor(random_state=seed, n_estimators=400)\n",
    "model.fit(rescaledX, Y_train)\n",
    "\n",
    "# transform the validation dataset\n",
    "rescaledValidationX = scaler.transform(X_validation)\n",
    "predictions = model.predict(rescaledValidationX)\n",
    "print(mean_squared_error(Y_validation, predictions))"
   ]
  },
  {
   "cell_type": "raw",
   "metadata": {},
   "source": [
    "We can see that the estimated mean squared error is 11.8, close to our estimate of -9.3.\n",
    "\n",
    "Summary\n",
    "In this tutorial you worked through a regression predictive modeling machine learning problem from end-to-end using Python. Specifically, the steps covered were:\n",
    " Problem Definition (Boston house price data).\n",
    " Loading the Dataset.\n",
    " Analyze Data (some skewed distributions and correlated attributes).\n",
    " Evaluate Algorithms (Linear Regression looked good).\n",
    " Evaluate Algorithms with Standardization (KNN looked good).\n",
    " Algorithm Tuning (K=3 for KNN was best).\n",
    " Ensemble Methods (Bagging and Boosting, Gradient Boosting looked good).\n",
    " Tuning Ensemble Methods (getting the most from Gradient Boosting).\n",
    " Finalize Model (use all training data and confirm using validation dataset).\n",
    "Working through this case study showed you how the recipes for specific machine learning tasks can be pulled together into a complete project. Working through this case study is good practice at applied machine learning using Python and scikit-learn.\n",
    "Next Step\n",
    "You have now completed two predictive modeling machine learning projects end-to-end. The first was a multiclass classification problem and this second project was a regression problem. Next is the third and final case study on a binary classification problem."
   ]
  },
  {
   "cell_type": "raw",
   "metadata": {},
   "source": [
    "Binary Classification Machine Learning\n",
    "Case Study Project\n",
    "How do you work through a predictive modeling machine learning problem end-to-end? In this lesson you will work through a case study classification predictive modeling problem in Python including each step of the applied machine learning process. After completing this project, you will know:\n",
    " How to work through a classification predictive modeling problem end-to-end.\n",
    " How to use data transforms to improve model performance.\n",
    " How to use algorithm tuning to improve model performance.\n",
    " How to use ensemble methods and tuning of ensemble methods to improve model performance.\n",
    "Problem Definition\n",
    "The focus of this project will be the Sonar Mines vs Rocks dataset1. The problem is to predict metal or rock objects from sonar return data. Each pattern is a set of 60 numbers in the range 0.0 to 1.0. Each number represents the energy within a particular frequency band, integrated over a certain period of time. The label associated with each record contains the letter R if\n",
    "the object is a rock and M if it is a mine (metal cylinder). The numbers in the labels are in increasing order of aspect angle, but they do not encode the angle directly.\n",
    "Load the Dataset\n",
    "Let’s start off by loading the libraries required for this project"
   ]
  },
  {
   "cell_type": "code",
   "execution_count": 40,
   "metadata": {
    "collapsed": true
   },
   "outputs": [],
   "source": [
    "# Load libraries\n",
    "import numpy\n",
    "from matplotlib import pyplot\n",
    "from pandas import read_csv\n",
    "from pandas import set_option\n",
    "from pandas.plotting import scatter_matrix\n",
    "from sklearn.preprocessing import StandardScaler\n",
    "from sklearn.model_selection import train_test_split\n",
    "from sklearn.model_selection import KFold\n",
    "from sklearn.model_selection import cross_val_score\n",
    "from sklearn.model_selection import GridSearchCV\n",
    "from sklearn.metrics import classification_report\n",
    "from sklearn.metrics import confusion_matrix\n",
    "from sklearn.metrics import accuracy_score\n",
    "from sklearn.pipeline import Pipeline\n",
    "from sklearn.linear_model import LogisticRegression\n",
    "from sklearn.tree import DecisionTreeClassifier\n",
    "from sklearn.neighbors import KNeighborsClassifier\n",
    "from sklearn.discriminant_analysis import LinearDiscriminantAnalysis\n",
    "from sklearn.naive_bayes import GaussianNB\n",
    "from sklearn.svm import SVC\n",
    "from sklearn.ensemble import AdaBoostClassifier\n",
    "from sklearn.ensemble import GradientBoostingClassifier\n",
    "from sklearn.ensemble import RandomForestClassifier\n",
    "from sklearn.ensemble import ExtraTreesClassifier"
   ]
  },
  {
   "cell_type": "raw",
   "metadata": {},
   "source": [
    "You can download the dataset from the UCI Machine Learning repository website2 and save\n",
    "it in the local working directory with the filename sonar.all-data.csv."
   ]
  },
  {
   "cell_type": "code",
   "execution_count": 41,
   "metadata": {
    "collapsed": true
   },
   "outputs": [],
   "source": [
    "# Load dataset\n",
    "url = 'sonar.all-data.csv'\n",
    "dataset = read_csv(url, header=None)"
   ]
  },
  {
   "cell_type": "raw",
   "metadata": {},
   "source": [
    "You can see that we are not specifying the names of the attributes this time. This is because other than the class attribute (the last column), the variables do not have meaningful names. We also indicate that there is no header information, this is to avoid file loading code taking the first record as the column names. Now that we have the dataset loaded we can take a look at it.\n",
    "Analyze Data\n",
    "Descriptive Statistics\n",
    "We will start off by confirming the dimensions of the dataset, e.g. the number of rows and columns."
   ]
  },
  {
   "cell_type": "code",
   "execution_count": 42,
   "metadata": {},
   "outputs": [
    {
     "name": "stdout",
     "output_type": "stream",
     "text": [
      "(208, 61)\n"
     ]
    }
   ],
   "source": [
    "# shape\n",
    "print(dataset.shape)"
   ]
  },
  {
   "cell_type": "raw",
   "metadata": {},
   "source": [
    "We have 208 instances to work with and can confirm the data has 61 attributes including\n",
    "the class attribute.\n",
    "\n",
    "Let’s also look at the data types of each attribute."
   ]
  },
  {
   "cell_type": "code",
   "execution_count": 43,
   "metadata": {},
   "outputs": [
    {
     "name": "stdout",
     "output_type": "stream",
     "text": [
      "0     float64\n",
      "1     float64\n",
      "2     float64\n",
      "3     float64\n",
      "4     float64\n",
      "5     float64\n",
      "6     float64\n",
      "7     float64\n",
      "8     float64\n",
      "9     float64\n",
      "10    float64\n",
      "11    float64\n",
      "12    float64\n",
      "13    float64\n",
      "14    float64\n",
      "15    float64\n",
      "16    float64\n",
      "17    float64\n",
      "18    float64\n",
      "19    float64\n",
      "20    float64\n",
      "21    float64\n",
      "22    float64\n",
      "23    float64\n",
      "24    float64\n",
      "25    float64\n",
      "26    float64\n",
      "27    float64\n",
      "28    float64\n",
      "29    float64\n",
      "30    float64\n",
      "31    float64\n",
      "32    float64\n",
      "33    float64\n",
      "34    float64\n",
      "35    float64\n",
      "36    float64\n",
      "37    float64\n",
      "38    float64\n",
      "39    float64\n",
      "40    float64\n",
      "41    float64\n",
      "42    float64\n",
      "43    float64\n",
      "44    float64\n",
      "45    float64\n",
      "46    float64\n",
      "47    float64\n",
      "48    float64\n",
      "49    float64\n",
      "50    float64\n",
      "51    float64\n",
      "52    float64\n",
      "53    float64\n",
      "54    float64\n",
      "55    float64\n",
      "56    float64\n",
      "57    float64\n",
      "58    float64\n",
      "59    float64\n",
      "60     object\n",
      "dtype: object\n"
     ]
    }
   ],
   "source": [
    "# types\n",
    "set_option('display.max_rows', 500)\n",
    "print(dataset.dtypes)"
   ]
  },
  {
   "cell_type": "markdown",
   "metadata": {},
   "source": [
    "We can see that all of the attributes are numeric (float) and that the class value has been\n",
    "read in as an object.\n",
    "\n",
    "Let’s now take a peek at the first 20 rows of the data."
   ]
  },
  {
   "cell_type": "code",
   "execution_count": 44,
   "metadata": {},
   "outputs": [
    {
     "name": "stdout",
     "output_type": "stream",
     "text": [
      "          0         1         2         3     4     5     6         7     8     9  ...        51  \\\n",
      "0   2.00e-02  3.71e-02  4.28e-02  2.07e-02  0.10  0.10  0.15  1.60e-01  0.31  0.21 ...  2.70e-03   \n",
      "1   4.53e-02  5.23e-02  8.43e-02  6.89e-02  0.12  0.26  0.22  3.48e-01  0.33  0.29 ...  8.40e-03   \n",
      "2   2.62e-02  5.82e-02  1.10e-01  1.08e-01  0.10  0.23  0.24  3.77e-01  0.56  0.62 ...  2.32e-02   \n",
      "3   1.00e-02  1.71e-02  6.23e-02  2.05e-02  0.02  0.04  0.11  1.28e-01  0.06  0.13 ...  1.21e-02   \n",
      "4   7.62e-02  6.66e-02  4.81e-02  3.94e-02  0.06  0.06  0.12  2.47e-01  0.36  0.45 ...  3.10e-03   \n",
      "5   2.86e-02  4.53e-02  2.77e-02  1.74e-02  0.04  0.10  0.12  1.83e-01  0.21  0.30 ...  4.50e-03   \n",
      "6   3.17e-02  9.56e-02  1.32e-01  1.41e-01  0.17  0.17  0.07  1.40e-01  0.21  0.35 ...  2.01e-02   \n",
      "7   5.19e-02  5.48e-02  8.42e-02  3.19e-02  0.12  0.09  0.10  6.13e-02  0.15  0.28 ...  8.10e-03   \n",
      "8   2.23e-02  3.75e-02  4.84e-02  4.75e-02  0.06  0.06  0.08  9.80e-03  0.07  0.15 ...  1.45e-02   \n",
      "9   1.64e-02  1.73e-02  3.47e-02  7.00e-03  0.02  0.07  0.11  6.97e-02  0.10  0.03 ...  9.00e-03   \n",
      "10  3.90e-03  6.30e-03  1.52e-02  3.36e-02  0.03  0.03  0.04  2.72e-02  0.03  0.05 ...  6.20e-03   \n",
      "11  1.23e-02  3.09e-02  1.69e-02  3.13e-02  0.04  0.01  0.02  5.79e-02  0.11  0.08 ...  1.33e-02   \n",
      "12  7.90e-03  8.60e-03  5.50e-03  2.50e-02  0.03  0.05  0.05  9.58e-02  0.10  0.12 ...  1.76e-02   \n",
      "13  9.00e-03  6.20e-03  2.53e-02  4.89e-02  0.12  0.16  0.14  9.87e-02  0.10  0.19 ...  5.90e-03   \n",
      "14  1.24e-02  4.33e-02  6.04e-02  4.49e-02  0.06  0.04  0.05  3.43e-02  0.11  0.21 ...  8.30e-03   \n",
      "15  2.98e-02  6.15e-02  6.50e-02  9.21e-02  0.16  0.23  0.22  2.03e-01  0.15  0.09 ...  3.10e-03   \n",
      "16  3.52e-02  1.16e-02  1.91e-02  4.69e-02  0.07  0.12  0.17  1.54e-01  0.15  0.29 ...  3.46e-02   \n",
      "17  1.92e-02  6.07e-02  3.78e-02  7.74e-02  0.14  0.08  0.06  2.19e-02  0.10  0.12 ...  3.31e-02   \n",
      "18  2.70e-02  9.20e-03  1.45e-02  2.78e-02  0.04  0.08  0.10  1.14e-01  0.08  0.15 ...  8.40e-03   \n",
      "19  1.26e-02  1.49e-02  6.41e-02  1.73e-01  0.26  0.26  0.29  4.11e-01  0.50  0.59 ...  9.20e-03   \n",
      "\n",
      "          52        53        54        55        56        57        58        59  60  \n",
      "0   6.50e-03  1.59e-02  7.20e-03  1.67e-02  1.80e-02  8.40e-03  9.00e-03  3.20e-03   R  \n",
      "1   8.90e-03  4.80e-03  9.40e-03  1.91e-02  1.40e-02  4.90e-03  5.20e-03  4.40e-03   R  \n",
      "2   1.66e-02  9.50e-03  1.80e-02  2.44e-02  3.16e-02  1.64e-02  9.50e-03  7.80e-03   R  \n",
      "3   3.60e-03  1.50e-02  8.50e-03  7.30e-03  5.00e-03  4.40e-03  4.00e-03  1.17e-02   R  \n",
      "4   5.40e-03  1.05e-02  1.10e-02  1.50e-03  7.20e-03  4.80e-03  1.07e-02  9.40e-03   R  \n",
      "5   1.40e-03  3.80e-03  1.30e-03  8.90e-03  5.70e-03  2.70e-03  5.10e-03  6.20e-03   R  \n",
      "6   2.48e-02  1.31e-02  7.00e-03  1.38e-02  9.20e-03  1.43e-02  3.60e-03  1.03e-02   R  \n",
      "7   1.20e-02  4.50e-03  1.21e-02  9.70e-03  8.50e-03  4.70e-03  4.80e-03  5.30e-03   R  \n",
      "8   1.28e-02  1.45e-02  5.80e-03  4.90e-03  6.50e-03  9.30e-03  5.90e-03  2.20e-03   R  \n",
      "9   2.23e-02  1.79e-02  8.40e-03  6.80e-03  3.20e-03  3.50e-03  5.60e-03  4.00e-03   R  \n",
      "10  1.20e-02  5.20e-03  5.60e-03  9.30e-03  4.20e-03  3.00e-04  5.30e-03  3.60e-03   R  \n",
      "11  2.65e-02  2.24e-02  7.40e-03  1.18e-02  2.60e-03  9.20e-03  9.00e-04  4.40e-03   R  \n",
      "12  1.27e-02  8.80e-03  9.80e-03  1.90e-03  5.90e-03  5.80e-03  5.90e-03  3.20e-03   R  \n",
      "13  9.50e-03  1.94e-02  8.00e-03  1.52e-02  1.58e-02  5.30e-03  1.89e-02  1.02e-02   R  \n",
      "14  5.70e-03  1.74e-02  1.88e-02  5.40e-03  1.14e-02  1.96e-02  1.47e-02  6.20e-03   R  \n",
      "15  1.53e-02  7.10e-03  2.12e-02  7.60e-03  1.52e-02  4.90e-03  2.00e-02  7.30e-03   R  \n",
      "16  1.58e-02  1.54e-02  1.09e-02  4.80e-03  9.50e-03  1.50e-03  7.30e-03  6.70e-03   R  \n",
      "17  1.31e-02  1.20e-02  1.08e-02  2.40e-03  4.50e-03  3.70e-03  1.12e-02  7.50e-03   R  \n",
      "18  1.00e-03  1.80e-03  6.80e-03  3.90e-03  1.20e-02  1.32e-02  7.00e-03  8.80e-03   R  \n",
      "19  3.50e-03  9.80e-03  1.21e-02  6.00e-04  1.81e-02  9.40e-03  1.16e-02  6.30e-03   R  \n",
      "\n",
      "[20 rows x 61 columns]\n"
     ]
    }
   ],
   "source": [
    "# head\n",
    "set_option('display.width', 100)\n",
    "print(dataset.head(20))"
   ]
  },
  {
   "cell_type": "raw",
   "metadata": {},
   "source": [
    "This does not show all of the columns, but we can see all of the data has the same scale. We\n",
    "can also see that the class attribute (60) has string values.\n",
    "\n",
    "Let’s summarize the distribution of each attribute."
   ]
  },
  {
   "cell_type": "code",
   "execution_count": 45,
   "metadata": {},
   "outputs": [
    {
     "name": "stdout",
     "output_type": "stream",
     "text": [
      "            0          1        2        3        4        5        6        7        8        9   \\\n",
      "count  208.000  2.080e+02  208.000  208.000  208.000  208.000  208.000  208.000  208.000  208.000   \n",
      "mean     0.029  3.844e-02    0.044    0.054    0.075    0.105    0.122    0.135    0.178    0.208   \n",
      "std      0.023  3.296e-02    0.038    0.047    0.056    0.059    0.062    0.085    0.118    0.134   \n",
      "min      0.002  6.000e-04    0.002    0.006    0.007    0.010    0.003    0.005    0.007    0.011   \n",
      "25%      0.013  1.645e-02    0.019    0.024    0.038    0.067    0.081    0.080    0.097    0.111   \n",
      "50%      0.023  3.080e-02    0.034    0.044    0.062    0.092    0.107    0.112    0.152    0.182   \n",
      "75%      0.036  4.795e-02    0.058    0.065    0.100    0.134    0.154    0.170    0.233    0.269   \n",
      "max      0.137  2.339e-01    0.306    0.426    0.401    0.382    0.373    0.459    0.683    0.711   \n",
      "\n",
      "         ...           50         51         52       53         54         55         56  \\\n",
      "count    ...      208.000  2.080e+02  2.080e+02  208.000  2.080e+02  2.080e+02  2.080e+02   \n",
      "mean     ...        0.016  1.342e-02  1.071e-02    0.011  9.290e-03  8.222e-03  7.820e-03   \n",
      "std      ...        0.012  9.634e-03  7.060e-03    0.007  7.088e-03  5.736e-03  5.785e-03   \n",
      "min      ...        0.000  8.000e-04  5.000e-04    0.001  6.000e-04  4.000e-04  3.000e-04   \n",
      "25%      ...        0.008  7.275e-03  5.075e-03    0.005  4.150e-03  4.400e-03  3.700e-03   \n",
      "50%      ...        0.014  1.140e-02  9.550e-03    0.009  7.500e-03  6.850e-03  5.950e-03   \n",
      "75%      ...        0.021  1.673e-02  1.490e-02    0.015  1.210e-02  1.058e-02  1.043e-02   \n",
      "max      ...        0.100  7.090e-02  3.900e-02    0.035  4.470e-02  3.940e-02  3.550e-02   \n",
      "\n",
      "              57         58         59  \n",
      "count  2.080e+02  2.080e+02  2.080e+02  \n",
      "mean   7.949e-03  7.941e-03  6.507e-03  \n",
      "std    6.470e-03  6.181e-03  5.031e-03  \n",
      "min    3.000e-04  1.000e-04  6.000e-04  \n",
      "25%    3.600e-03  3.675e-03  3.100e-03  \n",
      "50%    5.800e-03  6.400e-03  5.300e-03  \n",
      "75%    1.035e-02  1.033e-02  8.525e-03  \n",
      "max    4.400e-02  3.640e-02  4.390e-02  \n",
      "\n",
      "[8 rows x 60 columns]\n"
     ]
    }
   ],
   "source": [
    "# descriptions, change precision to 3 places\n",
    "set_option('precision', 3)\n",
    "print(dataset.describe())"
   ]
  },
  {
   "cell_type": "raw",
   "metadata": {},
   "source": [
    "Again, as we expect, the data has the same range, but interestingly differing mean values.\n",
    "There may be some benefit from standardizing the data.\n",
    "\n",
    "Let’s take a quick look at the breakdown of class values."
   ]
  },
  {
   "cell_type": "code",
   "execution_count": 46,
   "metadata": {},
   "outputs": [
    {
     "name": "stdout",
     "output_type": "stream",
     "text": [
      "60\n",
      "M    111\n",
      "R     97\n",
      "dtype: int64\n"
     ]
    }
   ],
   "source": [
    "# class distribution\n",
    "print(dataset.groupby(60).size())"
   ]
  },
  {
   "cell_type": "raw",
   "metadata": {},
   "source": [
    "We can see that the classes are reasonably balanced between M (mines) and R (rocks).\n",
    "\n",
    "Unimodal Data Visualizations\n",
    "Let’s look at visualizations of individual attributes. It is often useful to look at your data\n",
    "using multiple different visualizations in order to spark ideas. Let’s look at histograms of each\n",
    "attribute to get a sense of the data distributions."
   ]
  },
  {
   "cell_type": "code",
   "execution_count": 47,
   "metadata": {},
   "outputs": [
    {
     "data": {
      "image/png": "[encoded data removed]",
      "text/plain": [
       "<matplotlib.figure.Figure at 0x18ddde48>"
      ]
     },
     "metadata": {},
     "output_type": "display_data"
    }
   ],
   "source": [
    "# histograms\n",
    "dataset.hist(sharex=False, sharey=False, xlabelsize=1, ylabelsize=1)\n",
    "pyplot.show()"
   ]
  },
  {
   "cell_type": "raw",
   "metadata": {},
   "source": [
    "We can see that there are a lot of Gaussian-like distributions and perhaps some exponentiallike distributions for other attributes.\n",
    "\n",
    "Let’s take a look at the same perspective of the data using density plots."
   ]
  },
  {
   "cell_type": "code",
   "execution_count": 48,
   "metadata": {},
   "outputs": [
    {
     "data": {
      "image/png": "[encoded data removed]",
      "text/plain": [
       "<matplotlib.figure.Figure at 0x18dd3dd8>"
      ]
     },
     "metadata": {},
     "output_type": "display_data"
    }
   ],
   "source": [
    "# density\n",
    "dataset.plot(kind='density', subplots=True, layout=(8,8), sharex=False, legend=False,\n",
    "fontsize=1)\n",
    "pyplot.show()"
   ]
  },
  {
   "cell_type": "raw",
   "metadata": {},
   "source": [
    "This is useful, you can see that many of the attributes have a skewed distribution. A power\n",
    "transform like a Box-Cox transform that can correct for the skew in distributions might be\n",
    "useful."
   ]
  },
  {
   "cell_type": "code",
   "execution_count": 49,
   "metadata": {
    "collapsed": true
   },
   "outputs": [],
   "source": [
    "# box and whisker plots\n",
    "# dataset.plot(kind='box', subplots=True, layout=(8,8), sharex=False, sharey=False,fontsize=1)\n",
    "# pyplot.show()"
   ]
  },
  {
   "cell_type": "markdown",
   "metadata": {},
   "source": [
    "We can see that attributes do have quite different spreads. Given the scales are the same, it\n",
    "may suggest some benefit in standardizing the data for modeling to get all of the means lined\n",
    "up.\n",
    "\n",
    "Multimodal Data Visualizations\n",
    "Let’s visualize the correlations between the attributes."
   ]
  },
  {
   "cell_type": "code",
   "execution_count": 50,
   "metadata": {},
   "outputs": [
    {
     "data": {
      "image/png": "[encoded data removed]",
      "text/plain": [
       "<matplotlib.figure.Figure at 0x12121e80>"
      ]
     },
     "metadata": {},
     "output_type": "display_data"
    }
   ],
   "source": [
    "# correlation matrix\n",
    "fig = pyplot.figure()\n",
    "ax = fig.add_subplot(111)\n",
    "cax = ax.matshow(dataset.corr(), vmin=-1, vmax=1, interpolation='none')\n",
    "fig.colorbar(cax)\n",
    "pyplot.show()"
   ]
  },
  {
   "cell_type": "raw",
   "metadata": {},
   "source": [
    "It looks like there is also some structure in the order of the attributes. The red around\n",
    "the diagonal suggests that attributes that are next to each other are generally more correlated\n",
    "with each other. The blue patches also suggest some moderate negative correlation the further\n",
    "attributes are away from each other in the ordering. This makes sense if the order of the\n",
    "attributes refers to the angle of sensors for the sonar chirp.\n",
    "\n",
    "Validation Dataset\n",
    "It is a good idea to use a validation hold-out set. This is a sample of the data that we hold\n",
    "back from our analysis and modeling. We use it right at the end of our project to confirm the\n",
    "accuracy of our final model. It is a smoke test that we can use to see if we messed up and to\n",
    "give us confidence on our estimates of accuracy on unseen data. We will use 80% of the dataset\n",
    "for modeling and hold back 20% for validation."
   ]
  },
  {
   "cell_type": "code",
   "execution_count": 51,
   "metadata": {
    "collapsed": true
   },
   "outputs": [],
   "source": [
    "# Split-out validation dataset\n",
    "array = dataset.values\n",
    "X = array[:,0:60].astype(float)\n",
    "Y = array[:,60]\n",
    "validation_size = 0.20\n",
    "seed = 7\n",
    "X_train, X_validation, Y_train, Y_validation = train_test_split(X, Y,\n",
    "test_size=validation_size, random_state=seed)\n"
   ]
  },
  {
   "cell_type": "raw",
   "metadata": {},
   "source": [
    "Evaluate Algorithms: Baseline\n",
    "We don’t know what algorithms will do well on this dataset. Gut feel suggests distance based\n",
    "algorithms like k-Nearest Neighbors and Support Vector Machines may do well. Let’s design\n",
    "our test harness. We will use 10-fold cross validation. The dataset is not too small and this is\n",
    "a good standard test harness configuration. We will evaluate algorithms using the accuracy\n",
    "metric. This is a gross metric that will give a quick idea of how correct a given model is. More\n",
    "useful on binary classification problems like this one."
   ]
  },
  {
   "cell_type": "code",
   "execution_count": 52,
   "metadata": {
    "collapsed": true
   },
   "outputs": [],
   "source": [
    "# Test options and evaluation metric\n",
    "num_folds = 10\n",
    "seed = 7\n",
    "scoring = 'accuracy'"
   ]
  },
  {
   "cell_type": "raw",
   "metadata": {},
   "source": [
    "Let’s create a baseline of performance on this problem and spot-check a number of different\n",
    "algorithms. We will select a suite of different algorithms capable of working on this classification\n",
    "problem. The six algorithms selected include:\n",
    " Linear Algorithms: Logistic Regression (LR) and Linear Discriminant Analysis (LDA).\n",
    " Nonlinear Algorithms: Classification and Regression Trees (CART), Support Vector\n",
    "Machines (SVM), Gaussian Naive Bayes (NB) and k-Nearest Neighbors (KNN)."
   ]
  },
  {
   "cell_type": "code",
   "execution_count": 53,
   "metadata": {
    "collapsed": true
   },
   "outputs": [],
   "source": [
    "# Spot-Check Algorithms\n",
    "models = []\n",
    "models.append(('LR', LogisticRegression()))\n",
    "models.append(('LDA', LinearDiscriminantAnalysis()))\n",
    "models.append(('KNN', KNeighborsClassifier()))\n",
    "models.append(('CART', DecisionTreeClassifier()))\n",
    "models.append(('NB', GaussianNB()))\n",
    "models.append(('SVM', SVC()))"
   ]
  },
  {
   "cell_type": "raw",
   "metadata": {},
   "source": [
    "The algorithms all use default tuning parameters. Let’s compare the algorithms. We will\n",
    "display the mean and standard deviation of accuracy for each algorithm as we calculate it and\n",
    "collect the results for use later."
   ]
  },
  {
   "cell_type": "code",
   "execution_count": 54,
   "metadata": {},
   "outputs": [
    {
     "name": "stdout",
     "output_type": "stream",
     "text": [
      "LR: 0.782721 (0.093796)\n",
      "LDA: 0.746324 (0.117854)\n",
      "KNN: 0.808088 (0.067507)\n",
      "CART: 0.693015 (0.093764)\n",
      "NB: 0.648897 (0.141868)\n",
      "SVM: 0.608824 (0.118656)\n"
     ]
    }
   ],
   "source": [
    "results = []\n",
    "names = []\n",
    "for name, model in models:\n",
    "    kfold = KFold(n_splits=num_folds, random_state=seed)\n",
    "    cv_results = cross_val_score(model, X_train, Y_train, cv=kfold, scoring=scoring)\n",
    "    results.append(cv_results)\n",
    "    names.append(name)\n",
    "    msg = \"%s: %f (%f)\" % (name, cv_results.mean(), cv_results.std())\n",
    "    print(msg)"
   ]
  },
  {
   "cell_type": "raw",
   "metadata": {},
   "source": [
    "Running the example provides the output below. The results suggest That both Logistic\n",
    "Regression and k-Nearest Neighbors may be worth further study.\n",
    "\n",
    "These are just mean accuracy values. It is always wise to look at the distribution of accuracy\n",
    "values calculated across cross validation folds. We can do that graphically using box and whisker\n",
    "plots."
   ]
  },
  {
   "cell_type": "code",
   "execution_count": 55,
   "metadata": {},
   "outputs": [
    {
     "data": {
      "image/png": "[encoded data removed]",
      "text/plain": [
       "<matplotlib.figure.Figure at 0x18cf8390>"
      ]
     },
     "metadata": {},
     "output_type": "display_data"
    }
   ],
   "source": [
    "# Compare Algorithms\n",
    "fig = pyplot.figure()\n",
    "fig.suptitle('Algorithm Comparison')\n",
    "ax = fig.add_subplot(111)\n",
    "pyplot.boxplot(results)\n",
    "ax.set_xticklabels(names)\n",
    "pyplot.show()"
   ]
  },
  {
   "cell_type": "raw",
   "metadata": {},
   "source": [
    "The results show a tight distribution for KNN which is encouraging, suggesting low variance.\n",
    "The poor results for SVM are surprising\n",
    "\n",
    "It is possible that the varied distribution of the attributes is having an effect on the accuracy of algorithms such as SVM. In the next section we will repeat this spot-check with a standardized copy of the training dataset.\n",
    "\n",
    "Evaluate Algorithms: Standardize Data\n",
    "We suspect that the differing distributions of the raw data may be negatively impacting the skill of some of the algorithms. Let’s evaluate the same algorithms with a standardized copy of the dataset. This is where the data is transformed such that each attribute has a mean value of zero and a standard deviation of one. We also need to avoid data leakage when we transform the\n",
    "data. A good way to avoid leakage is to use pipelines that standardize the data and build the model for each fold in the cross validation test harness. That way we can get a fair estimation of how each model with standardized data might perform on unseen data."
   ]
  },
  {
   "cell_type": "code",
   "execution_count": 56,
   "metadata": {},
   "outputs": [
    {
     "name": "stdout",
     "output_type": "stream",
     "text": [
      "ScaledLR: 0.734191 (0.095885)\n",
      "ScaledLDA: 0.746324 (0.117854)\n",
      "ScaledKNN: 0.825735 (0.054511)\n",
      "ScaledCART: 0.704412 (0.101383)\n",
      "ScaledNB: 0.648897 (0.141868)\n",
      "ScaledSVM: 0.836397 (0.088697)\n"
     ]
    }
   ],
   "source": [
    "# Standardize the dataset\n",
    "pipelines = []\n",
    "pipelines.append(('ScaledLR', Pipeline([('Scaler', StandardScaler()),('LR',\n",
    "LogisticRegression())])))\n",
    "pipelines.append(('ScaledLDA', Pipeline([('Scaler', StandardScaler()),('LDA',\n",
    "LinearDiscriminantAnalysis())])))\n",
    "pipelines.append(('ScaledKNN', Pipeline([('Scaler', StandardScaler()),('KNN',\n",
    "KNeighborsClassifier())])))\n",
    "pipelines.append(('ScaledCART', Pipeline([('Scaler', StandardScaler()),('CART',\n",
    "DecisionTreeClassifier())])))\n",
    "pipelines.append(('ScaledNB', Pipeline([('Scaler', StandardScaler()),('NB',\n",
    "GaussianNB())])))\n",
    "pipelines.append(('ScaledSVM', Pipeline([('Scaler', StandardScaler()),('SVM', SVC())])))\n",
    "results = []\n",
    "names = []\n",
    "for name, model in pipelines:\n",
    "    kfold = KFold(n_splits=num_folds, random_state=seed)\n",
    "    cv_results = cross_val_score(model, X_train, Y_train, cv=kfold, scoring=scoring)\n",
    "    results.append(cv_results)\n",
    "    names.append(name)\n",
    "    msg = \"%s: %f (%f)\" % (name, cv_results.mean(), cv_results.std())\n",
    "    print(msg)"
   ]
  },
  {
   "cell_type": "raw",
   "metadata": {},
   "source": [
    "Running the example provides the results listed below. We can see that KNN is still doing\n",
    "well, even better than before. We can also see that the standardization of the data has lifted\n",
    "the skill of SVM to be the most accurate algorithm tested so far.\n",
    "\n",
    "Again, we should plot the distribution of the accuracy scores using box and whisker plots."
   ]
  },
  {
   "cell_type": "code",
   "execution_count": 57,
   "metadata": {},
   "outputs": [
    {
     "data": {
      "image/png": "[encoded data removed]",
      "text/plain": [
       "<matplotlib.figure.Figure at 0x18d917f0>"
      ]
     },
     "metadata": {},
     "output_type": "display_data"
    }
   ],
   "source": [
    "# Compare Algorithms\n",
    "fig = pyplot.figure()\n",
    "fig.suptitle('Scaled Algorithm Comparison')\n",
    "ax = fig.add_subplot(111)\n",
    "pyplot.boxplot(results)\n",
    "ax.set_xticklabels(names)\n",
    "pyplot.show()"
   ]
  },
  {
   "cell_type": "raw",
   "metadata": {},
   "source": [
    "The results suggest digging deeper into the SVM and KNN algorithms. It is very likely that configuration beyond the default may yield even more accurate models.\n",
    "\n",
    "Algorithm Tuning\n",
    "In this section we investigate tuning the parameters for two algorithms that show promise from the spot-checking in the previous section: KNN and SVM.\n",
    "Tuning KNN\n",
    "We can start off by tuning the number of neighbors for KNN. The default number of neighbors is 7. Below we try all odd values of k from 1 to 21, covering the default value of 7. Each k value is evaluated using 10-fold cross validation on the training standardized dataset."
   ]
  },
  {
   "cell_type": "code",
   "execution_count": 58,
   "metadata": {},
   "outputs": [
    {
     "name": "stdout",
     "output_type": "stream",
     "text": [
      "Best: 0.849398 using {'n_neighbors': 1}\n",
      "0.849398 (0.059881) with: {'n_neighbors': 1}\n",
      "0.837349 (0.066303) with: {'n_neighbors': 3}\n",
      "0.837349 (0.037500) with: {'n_neighbors': 5}\n",
      "0.765060 (0.089510) with: {'n_neighbors': 7}\n",
      "0.753012 (0.086979) with: {'n_neighbors': 9}\n",
      "0.734940 (0.104890) with: {'n_neighbors': 11}\n",
      "0.734940 (0.105836) with: {'n_neighbors': 13}\n",
      "0.728916 (0.075873) with: {'n_neighbors': 15}\n",
      "0.710843 (0.078716) with: {'n_neighbors': 17}\n",
      "0.722892 (0.084555) with: {'n_neighbors': 19}\n",
      "0.710843 (0.108829) with: {'n_neighbors': 21}\n"
     ]
    }
   ],
   "source": [
    "# Tune scaled KNN\n",
    "scaler = StandardScaler().fit(X_train)\n",
    "rescaledX = scaler.transform(X_train)\n",
    "neighbors = [1,3,5,7,9,11,13,15,17,19,21]\n",
    "param_grid = dict(n_neighbors=neighbors)\n",
    "model = KNeighborsClassifier()\n",
    "kfold = KFold(n_splits=num_folds, random_state=seed)\n",
    "grid = GridSearchCV(estimator=model, param_grid=param_grid, scoring=scoring, cv=kfold)\n",
    "grid_result = grid.fit(rescaledX, Y_train)\n",
    "print(\"Best: %f using %s\" % (grid_result.best_score_, grid_result.best_params_))\n",
    "means = grid_result.cv_results_['mean_test_score']\n",
    "stds = grid_result.cv_results_['std_test_score']\n",
    "params = grid_result.cv_results_['params']\n",
    "for mean, stdev, param in zip(means, stds, params):\n",
    "    print(\"%f (%f) with: %r\" % (mean, stdev, param))"
   ]
  },
  {
   "cell_type": "raw",
   "metadata": {},
   "source": [
    "We can print out configuration that resulted in the highest accuracy as well as the accuracy of all values tried. Running the example we see the results below.\n",
    "Best: 0.849398 using {'n_neighbors': 1}\n",
    "0.850000 (0.059686) with: {'n_neighbors': 1}\n",
    "0.837132 (0.066014) with: {'n_neighbors': 3}\n",
    "0.837500 (0.037377) with: {'n_neighbors': 5}\n",
    "0.763971 (0.089374) with: {'n_neighbors': 7}\n",
    "0.751471 (0.087051) with: {'n_neighbors': 9}\n",
    "0.733456 (0.104831) with: {'n_neighbors': 11}\n",
    "0.733088 (0.105806) with: {'n_neighbors': 13}\n",
    "0.727941 (0.076148) with: {'n_neighbors': 15}\n",
    "0.709926 (0.079287) with: {'n_neighbors': 17}\n",
    "0.722059 (0.085088) with: {'n_neighbors': 19}\n",
    "0.710294 (0.109505) with: {'n_neighbors': 21}\n",
    "\n",
    "Results of Tuning KNN on the Scaled Dataset.\n",
    "We can see that the optimal configuration is K=1. This is interesting as the algorithm will make predictions using the most similar instance in the training dataset alone.\n",
    "Tuning SVM\n",
    "We can tune two key parameters of the SVM algorithm, the value of C (how much to relax the margin) and the type of kernel. The default for SVM (the SVC class) is to use the Radial Basis Function (RBF) kernel with a C value set to 1.0. Like with KNN, we will perform a grid search using 10-fold cross validation with a standardized copy of the training dataset. We will try a number of simpler kernel types and C values with less bias and more bias (less than and more than 1.0 respectively)."
   ]
  },
  {
   "cell_type": "code",
   "execution_count": 59,
   "metadata": {},
   "outputs": [
    {
     "name": "stdout",
     "output_type": "stream",
     "text": [
      "Best: 0.867470 using {'C': 1.5, 'kernel': 'rbf'}\n",
      "0.759036 (0.098863) with: {'C': 0.1, 'kernel': 'linear'}\n",
      "0.530120 (0.118780) with: {'C': 0.1, 'kernel': 'poly'}\n",
      "0.572289 (0.130339) with: {'C': 0.1, 'kernel': 'rbf'}\n",
      "0.704819 (0.066360) with: {'C': 0.1, 'kernel': 'sigmoid'}\n",
      "0.746988 (0.108913) with: {'C': 0.3, 'kernel': 'linear'}\n",
      "0.644578 (0.132290) with: {'C': 0.3, 'kernel': 'poly'}\n",
      "0.765060 (0.092312) with: {'C': 0.3, 'kernel': 'rbf'}\n",
      "0.734940 (0.054631) with: {'C': 0.3, 'kernel': 'sigmoid'}\n",
      "0.740964 (0.083035) with: {'C': 0.5, 'kernel': 'linear'}\n",
      "0.680723 (0.098638) with: {'C': 0.5, 'kernel': 'poly'}\n",
      "0.789157 (0.064316) with: {'C': 0.5, 'kernel': 'rbf'}\n",
      "0.746988 (0.059265) with: {'C': 0.5, 'kernel': 'sigmoid'}\n",
      "0.746988 (0.084525) with: {'C': 0.7, 'kernel': 'linear'}\n",
      "0.740964 (0.127960) with: {'C': 0.7, 'kernel': 'poly'}\n",
      "0.813253 (0.084886) with: {'C': 0.7, 'kernel': 'rbf'}\n",
      "0.753012 (0.058513) with: {'C': 0.7, 'kernel': 'sigmoid'}\n",
      "0.759036 (0.096940) with: {'C': 0.9, 'kernel': 'linear'}\n",
      "0.771084 (0.102127) with: {'C': 0.9, 'kernel': 'poly'}\n",
      "0.837349 (0.087854) with: {'C': 0.9, 'kernel': 'rbf'}\n",
      "0.753012 (0.073751) with: {'C': 0.9, 'kernel': 'sigmoid'}\n",
      "0.753012 (0.099230) with: {'C': 1.0, 'kernel': 'linear'}\n",
      "0.789157 (0.107601) with: {'C': 1.0, 'kernel': 'poly'}\n",
      "0.837349 (0.087854) with: {'C': 1.0, 'kernel': 'rbf'}\n",
      "0.753012 (0.070213) with: {'C': 1.0, 'kernel': 'sigmoid'}\n",
      "0.771084 (0.106063) with: {'C': 1.3, 'kernel': 'linear'}\n",
      "0.819277 (0.106414) with: {'C': 1.3, 'kernel': 'poly'}\n",
      "0.849398 (0.079990) with: {'C': 1.3, 'kernel': 'rbf'}\n",
      "0.710843 (0.076865) with: {'C': 1.3, 'kernel': 'sigmoid'}\n",
      "0.759036 (0.091777) with: {'C': 1.5, 'kernel': 'linear'}\n",
      "0.831325 (0.109499) with: {'C': 1.5, 'kernel': 'poly'}\n",
      "0.867470 (0.090883) with: {'C': 1.5, 'kernel': 'rbf'}\n",
      "0.740964 (0.063717) with: {'C': 1.5, 'kernel': 'sigmoid'}\n",
      "0.746988 (0.090228) with: {'C': 1.7, 'kernel': 'linear'}\n",
      "0.831325 (0.115695) with: {'C': 1.7, 'kernel': 'poly'}\n",
      "0.861446 (0.087691) with: {'C': 1.7, 'kernel': 'rbf'}\n",
      "0.710843 (0.088140) with: {'C': 1.7, 'kernel': 'sigmoid'}\n",
      "0.759036 (0.094276) with: {'C': 2.0, 'kernel': 'linear'}\n",
      "0.831325 (0.108279) with: {'C': 2.0, 'kernel': 'poly'}\n",
      "0.867470 (0.094701) with: {'C': 2.0, 'kernel': 'rbf'}\n",
      "0.728916 (0.095050) with: {'C': 2.0, 'kernel': 'sigmoid'}\n"
     ]
    }
   ],
   "source": [
    "# Tune scaled SVM\n",
    "scaler = StandardScaler().fit(X_train)\n",
    "rescaledX = scaler.transform(X_train)\n",
    "c_values = [0.1, 0.3, 0.5, 0.7, 0.9, 1.0, 1.3, 1.5, 1.7, 2.0]\n",
    "kernel_values = ['linear', 'poly', 'rbf', 'sigmoid']\n",
    "param_grid = dict(C=c_values, kernel=kernel_values)\n",
    "model = SVC()\n",
    "kfold = KFold(n_splits=num_folds, random_state=seed)\n",
    "grid = GridSearchCV(estimator=model, param_grid=param_grid, scoring=scoring, cv=kfold)\n",
    "grid_result = grid.fit(rescaledX, Y_train)\n",
    "print(\"Best: %f using %s\" % (grid_result.best_score_, grid_result.best_params_))\n",
    "means = grid_result.cv_results_['mean_test_score']\n",
    "stds = grid_result.cv_results_['std_test_score']\n",
    "params = grid_result.cv_results_['params']\n",
    "for mean, stdev, param in zip(means, stds, params):\n",
    "    print(\"%f (%f) with: %r\" % (mean, stdev, param))"
   ]
  },
  {
   "cell_type": "raw",
   "metadata": {},
   "source": [
    "Running the example prints out the best configuration, the accuracy as well as the accuracies for all configuration combinations.\n",
    "\n",
    "We can see the most accurate configuration was SVM with an RBF kernel and a C value of 1.5. The accuracy 86.7470% is seemingly better than what KNN could achieve.21.8. Ensemble Methods 160\n",
    "\n",
    "Ensemble Methods\n",
    "Another way that we can improve the performance of algorithms on this problem is by using ensemble methods. In this section we will evaluate four different ensemble machine learning algorithms, two boosting and two bagging methods:\n",
    " Boosting Methods: AdaBoost (AB) and Gradient Boosting (GBM).\n",
    " Bagging Methods: Random Forests (RF) and Extra Trees (ET).\n",
    "We will use the same test harness as before, 10-fold cross validation. No data standardization is used in this case because all four ensemble algorithms are based on decision trees that are less sensitive to data distributions."
   ]
  },
  {
   "cell_type": "code",
   "execution_count": 60,
   "metadata": {},
   "outputs": [
    {
     "name": "stdout",
     "output_type": "stream",
     "text": [
      "AB: 0.819853 (0.058293)\n",
      "GBM: 0.841912 (0.113531)\n",
      "RF: 0.758088 (0.082566)\n",
      "ET: 0.854779 (0.096856)\n"
     ]
    }
   ],
   "source": [
    "# ensembles\n",
    "ensembles = []\n",
    "ensembles.append(('AB', AdaBoostClassifier()))\n",
    "ensembles.append(('GBM', GradientBoostingClassifier()))\n",
    "ensembles.append(('RF', RandomForestClassifier()))\n",
    "ensembles.append(('ET', ExtraTreesClassifier()))\n",
    "results = []\n",
    "names = []\n",
    "for name, model in ensembles:\n",
    "    kfold = KFold(n_splits=num_folds, random_state=seed)\n",
    "    cv_results = cross_val_score(model, X_train, Y_train, cv=kfold, scoring=scoring)\n",
    "    results.append(cv_results)\n",
    "    names.append(name)\n",
    "    msg = \"%s: %f (%f)\" % (name, cv_results.mean(), cv_results.std())\n",
    "    print(msg)"
   ]
  },
  {
   "cell_type": "raw",
   "metadata": {},
   "source": [
    "Running the example provides the following accuracy scores\n",
    "\n",
    "We can see that both boosting techniques provide strong accuracy scores in the low 80s (%)\n",
    "with default configurations. We can plot the distribution of accuracy scores across the cross\n",
    "validation folds."
   ]
  },
  {
   "cell_type": "code",
   "execution_count": 61,
   "metadata": {},
   "outputs": [
    {
     "data": {
      "image/png": "[encoded data removed]",
      "text/plain": [
       "<matplotlib.figure.Figure at 0x148854a8>"
      ]
     },
     "metadata": {},
     "output_type": "display_data"
    }
   ],
   "source": [
    "# Compare Algorithms\n",
    "fig = pyplot.figure()\n",
    "fig.suptitle('Ensemble Algorithm Comparison')\n",
    "ax = fig.add_subplot(111)\n",
    "pyplot.boxplot(results)\n",
    "ax.set_xticklabels(names)\n",
    "pyplot.show()"
   ]
  },
  {
   "cell_type": "raw",
   "metadata": {},
   "source": [
    "The results suggest GBM may be worthy of further study, with a strong mean and a spread\n",
    "that skews up towards high 90s (%) in accuracy.\n",
    "\n",
    "Finalize Model\n",
    "The SVM showed the most promise as a low complexity and stable model for this problem. In\n",
    "this section we will finalize the model by training it on the entire training dataset and make\n",
    "predictions for the hold-out validation dataset to confirm our findings. A part of the findings was\n",
    "that SVM performs better when the dataset is standardized so that all attributes have a mean\n",
    "value of zero and a standard deviation of one. We can calculate this from the entire training\n",
    "dataset and apply the same transform to the input attributes from the validation dataset."
   ]
  },
  {
   "cell_type": "code",
   "execution_count": 62,
   "metadata": {},
   "outputs": [
    {
     "name": "stdout",
     "output_type": "stream",
     "text": [
      "0.8571428571428571\n",
      "[[23  4]\n",
      " [ 2 13]]\n",
      "             precision    recall  f1-score   support\n",
      "\n",
      "          M       0.92      0.85      0.88        27\n",
      "          R       0.76      0.87      0.81        15\n",
      "\n",
      "avg / total       0.86      0.86      0.86        42\n",
      "\n"
     ]
    }
   ],
   "source": [
    "# prepare the model\n",
    "scaler = StandardScaler().fit(X_train)\n",
    "rescaledX = scaler.transform(X_train)\n",
    "model = SVC(C=1.5)\n",
    "model.fit(rescaledX, Y_train)\n",
    "# estimate accuracy on validation dataset\n",
    "rescaledValidationX = scaler.transform(X_validation)\n",
    "predictions = model.predict(rescaledValidationX)\n",
    "print(accuracy_score(Y_validation, predictions))\n",
    "print(confusion_matrix(Y_validation, predictions))\n",
    "print(classification_report(Y_validation, predictions))"
   ]
  },
  {
   "cell_type": "raw",
   "metadata": {},
   "source": [
    "We can see that we achieve an accuracy of nearly 86% on the held-out validation dataset. A score that matches closely to our expectations estimated above during the tuning of SVM."
   ]
  },
  {
   "cell_type": "raw",
   "metadata": {},
   "source": [
    "Summary\n",
    "In this chapter you worked through a classification predictive modeling machine learning problem from end-to-end using Python. Specifically, the steps covered were:\n",
    " Problem Definition (Sonar return data).\n",
    " Loading the Dataset.\n",
    " Analyze Data (same scale but different distributions of data).\n",
    " Evaluate Algorithms (KNN looked good).\n",
    " Evaluate Algorithms with Standardization (KNN and SVM looked good).\n",
    " Algorithm Tuning (K=1 for KNN was good, SVM with an RBF kernel and C=1.5 was best).\n",
    " Ensemble Methods (Bagging and Boosting, not quite as good as SVM).\n",
    " Finalize Model (use all training data and confirm using validation dataset).\n",
    "Working through this case study showed you how the recipes for specific machine learning tasks can be pulled together into a complete project. Working through this case study is good practice at applied machine learning using Python.\n",
    "Next Step\n",
    "This was the third and final predictive modeling project case study. Well done! You now have experience and skills in working through predictive modeling machine learning projects end-to-end. In the next section you will discover ideas for additional small case study projects that you could work on for further practice."
   ]
  },
  {
   "cell_type": "markdown",
   "metadata": {},
   "source": [
    "<img src=\"Programming%20Tutorials%20End.png\" style=\"height:600px\", align=\"middle\">"
   ]
  },
  {
   "cell_type": "code",
   "execution_count": null,
   "metadata": {
    "collapsed": true
   },
   "outputs": [],
   "source": []
  },
  {
   "cell_type": "code",
   "execution_count": null,
   "metadata": {
    "collapsed": true
   },
   "outputs": [],
   "source": []
  },
  {
   "cell_type": "code",
   "execution_count": null,
   "metadata": {
    "collapsed": true
   },
   "outputs": [],
   "source": []
  },
  {
   "cell_type": "code",
   "execution_count": null,
   "metadata": {
    "collapsed": true
   },
   "outputs": [],
   "source": []
  },
  {
   "cell_type": "code",
   "execution_count": null,
   "metadata": {
    "collapsed": true
   },
   "outputs": [],
   "source": []
  },
  {
   "cell_type": "code",
   "execution_count": null,
   "metadata": {
    "collapsed": true
   },
   "outputs": [],
   "source": []
  },
  {
   "cell_type": "code",
   "execution_count": null,
   "metadata": {
    "collapsed": true
   },
   "outputs": [],
   "source": []
  },
  {
   "cell_type": "code",
   "execution_count": null,
   "metadata": {
    "collapsed": true
   },
   "outputs": [],
   "source": []
  },
  {
   "cell_type": "code",
   "execution_count": null,
   "metadata": {
    "collapsed": true
   },
   "outputs": [],
   "source": []
  },
  {
   "cell_type": "code",
   "execution_count": null,
   "metadata": {
    "collapsed": true
   },
   "outputs": [],
   "source": []
  },
  {
   "cell_type": "code",
   "execution_count": null,
   "metadata": {
    "collapsed": true
   },
   "outputs": [],
   "source": []
  },
  {
   "cell_type": "code",
   "execution_count": null,
   "metadata": {
    "collapsed": true
   },
   "outputs": [],
   "source": []
  },
  {
   "cell_type": "code",
   "execution_count": null,
   "metadata": {
    "collapsed": true
   },
   "outputs": [],
   "source": []
  },
  {
   "cell_type": "code",
   "execution_count": null,
   "metadata": {
    "collapsed": true
   },
   "outputs": [],
   "source": []
  },
  {
   "cell_type": "code",
   "execution_count": null,
   "metadata": {
    "collapsed": true
   },
   "outputs": [],
   "source": []
  },
  {
   "cell_type": "code",
   "execution_count": null,
   "metadata": {
    "collapsed": true
   },
   "outputs": [],
   "source": []
  },
  {
   "cell_type": "code",
   "execution_count": null,
   "metadata": {
    "collapsed": true
   },
   "outputs": [],
   "source": []
  },
  {
   "cell_type": "code",
   "execution_count": null,
   "metadata": {
    "collapsed": true
   },
   "outputs": [],
   "source": []
  },
  {
   "cell_type": "code",
   "execution_count": null,
   "metadata": {
    "collapsed": true
   },
   "outputs": [],
   "source": []
  },
  {
   "cell_type": "code",
   "execution_count": null,
   "metadata": {
    "collapsed": true
   },
   "outputs": [],
   "source": []
  },
  {
   "cell_type": "code",
   "execution_count": null,
   "metadata": {
    "collapsed": true
   },
   "outputs": [],
   "source": []
  },
  {
   "cell_type": "code",
   "execution_count": null,
   "metadata": {
    "collapsed": true
   },
   "outputs": [],
   "source": []
  },
  {
   "cell_type": "code",
   "execution_count": null,
   "metadata": {
    "collapsed": true
   },
   "outputs": [],
   "source": []
  },
  {
   "cell_type": "code",
   "execution_count": null,
   "metadata": {
    "collapsed": true
   },
   "outputs": [],
   "source": []
  },
  {
   "cell_type": "code",
   "execution_count": null,
   "metadata": {
    "collapsed": true
   },
   "outputs": [],
   "source": []
  },
  {
   "cell_type": "code",
   "execution_count": null,
   "metadata": {
    "collapsed": true
   },
   "outputs": [],
   "source": []
  },
  {
   "cell_type": "code",
   "execution_count": null,
   "metadata": {
    "collapsed": true
   },
   "outputs": [],
   "source": []
  },
  {
   "cell_type": "code",
   "execution_count": null,
   "metadata": {
    "collapsed": true
   },
   "outputs": [],
   "source": []
  },
  {
   "cell_type": "code",
   "execution_count": null,
   "metadata": {
    "collapsed": true
   },
   "outputs": [],
   "source": []
  },
  {
   "cell_type": "code",
   "execution_count": null,
   "metadata": {
    "collapsed": true
   },
   "outputs": [],
   "source": []
  },
  {
   "cell_type": "code",
   "execution_count": null,
   "metadata": {
    "collapsed": true
   },
   "outputs": [],
   "source": []
  },
  {
   "cell_type": "code",
   "execution_count": null,
   "metadata": {
    "collapsed": true
   },
   "outputs": [],
   "source": []
  },
  {
   "cell_type": "code",
   "execution_count": null,
   "metadata": {
    "collapsed": true
   },
   "outputs": [],
   "source": []
  },
  {
   "cell_type": "code",
   "execution_count": null,
   "metadata": {
    "collapsed": true
   },
   "outputs": [],
   "source": []
  },
  {
   "cell_type": "code",
   "execution_count": null,
   "metadata": {
    "collapsed": true
   },
   "outputs": [],
   "source": []
  },
  {
   "cell_type": "code",
   "execution_count": null,
   "metadata": {
    "collapsed": true
   },
   "outputs": [],
   "source": []
  },
  {
   "cell_type": "code",
   "execution_count": null,
   "metadata": {
    "collapsed": true
   },
   "outputs": [],
   "source": []
  },
  {
   "cell_type": "code",
   "execution_count": null,
   "metadata": {
    "collapsed": true
   },
   "outputs": [],
   "source": []
  },
  {
   "cell_type": "code",
   "execution_count": null,
   "metadata": {
    "collapsed": true
   },
   "outputs": [],
   "source": []
  },
  {
   "cell_type": "code",
   "execution_count": null,
   "metadata": {
    "collapsed": true
   },
   "outputs": [],
   "source": []
  },
  {
   "cell_type": "code",
   "execution_count": null,
   "metadata": {
    "collapsed": true
   },
   "outputs": [],
   "source": []
  },
  {
   "cell_type": "code",
   "execution_count": null,
   "metadata": {
    "collapsed": true
   },
   "outputs": [],
   "source": []
  },
  {
   "cell_type": "code",
   "execution_count": null,
   "metadata": {
    "collapsed": true
   },
   "outputs": [],
   "source": []
  },
  {
   "cell_type": "code",
   "execution_count": null,
   "metadata": {
    "collapsed": true
   },
   "outputs": [],
   "source": []
  },
  {
   "cell_type": "code",
   "execution_count": null,
   "metadata": {
    "collapsed": true
   },
   "outputs": [],
   "source": []
  },
  {
   "cell_type": "code",
   "execution_count": null,
   "metadata": {
    "collapsed": true
   },
   "outputs": [],
   "source": []
  },
  {
   "cell_type": "code",
   "execution_count": null,
   "metadata": {
    "collapsed": true
   },
   "outputs": [],
   "source": []
  },
  {
   "cell_type": "code",
   "execution_count": null,
   "metadata": {
    "collapsed": true
   },
   "outputs": [],
   "source": []
  },
  {
   "cell_type": "code",
   "execution_count": null,
   "metadata": {
    "collapsed": true
   },
   "outputs": [],
   "source": []
  },
  {
   "cell_type": "code",
   "execution_count": null,
   "metadata": {
    "collapsed": true
   },
   "outputs": [],
   "source": []
  },
  {
   "cell_type": "code",
   "execution_count": null,
   "metadata": {
    "collapsed": true
   },
   "outputs": [],
   "source": []
  },
  {
   "cell_type": "code",
   "execution_count": null,
   "metadata": {
    "collapsed": true
   },
   "outputs": [],
   "source": []
  }
 ],
 "metadata": {
  "kernelspec": {
   "display_name": "Python 3",
   "language": "python",
   "name": "python3"
  },
  "language_info": {
   "codemirror_mode": {
    "name": "ipython",
    "version": 3
   },
   "file_extension": ".py",
   "mimetype": "text/x-python",
   "name": "python",
   "nbconvert_exporter": "python",
   "pygments_lexer": "ipython3",
   "version": "3.6.3"
  }
 },
 "nbformat": 4,
 "nbformat_minor": 2
}
